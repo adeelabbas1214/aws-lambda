{
 "cells": [
  {
   "cell_type": "code",
   "execution_count": 1,
   "id": "96a6e7c2-7e80-41ec-9d09-cb4462030bf2",
   "metadata": {},
   "outputs": [
    {
     "data": {
      "text/plain": [
       "3"
      ]
     },
     "execution_count": 1,
     "metadata": {},
     "output_type": "execute_result"
    }
   ],
   "source": [
    "2+1"
   ]
  },
  {
   "cell_type": "code",
   "execution_count": 2,
   "id": "d2b80ecf-dcc2-4d54-9fb9-f53c26f78c09",
   "metadata": {},
   "outputs": [
    {
     "data": {
      "text/plain": [
       "0.75"
      ]
     },
     "execution_count": 2,
     "metadata": {},
     "output_type": "execute_result"
    }
   ],
   "source": [
    "3/4"
   ]
  },
  {
   "cell_type": "code",
   "execution_count": 3,
   "id": "e433754c-4981-4df0-9d31-3db697d95833",
   "metadata": {},
   "outputs": [
    {
     "data": {
      "text/plain": [
       "1"
      ]
     },
     "execution_count": 3,
     "metadata": {},
     "output_type": "execute_result"
    }
   ],
   "source": [
    "5%2"
   ]
  },
  {
   "cell_type": "code",
   "execution_count": 4,
   "id": "97db6dc1-10e7-43e0-b2b1-70035d8e087b",
   "metadata": {},
   "outputs": [
    {
     "data": {
      "text/plain": [
       "8"
      ]
     },
     "execution_count": 4,
     "metadata": {},
     "output_type": "execute_result"
    }
   ],
   "source": [
    "2**3"
   ]
  },
  {
   "cell_type": "code",
   "execution_count": 5,
   "id": "c22c99c1-50d5-4547-847e-82b6df06b919",
   "metadata": {},
   "outputs": [
    {
     "data": {
      "text/plain": [
       "5.551115123125783e-17"
      ]
     },
     "execution_count": 5,
     "metadata": {},
     "output_type": "execute_result"
    }
   ],
   "source": [
    "0.1+0.2-0.3"
   ]
  },
  {
   "cell_type": "code",
   "execution_count": 7,
   "id": "7353e963-d667-43bf-a1a2-328d06a9ccdd",
   "metadata": {},
   "outputs": [
    {
     "data": {
      "text/plain": [
       "\" i'm going to learn to py\""
      ]
     },
     "execution_count": 7,
     "metadata": {},
     "output_type": "execute_result"
    }
   ],
   "source": [
    "\" i'm going to learn to py\"\n"
   ]
  },
  {
   "cell_type": "code",
   "execution_count": 8,
   "id": "32aac791-954f-44a5-abe3-d3b01fffbdd4",
   "metadata": {},
   "outputs": [
    {
     "data": {
      "text/plain": [
       "' i\"m going to learn py'"
      ]
     },
     "execution_count": 8,
     "metadata": {},
     "output_type": "execute_result"
    }
   ],
   "source": [
    "' i\"m going to learn py'\n"
   ]
  },
  {
   "cell_type": "code",
   "execution_count": 9,
   "id": "47c7e8b9-aad5-4475-bc12-3e0d83df55e9",
   "metadata": {},
   "outputs": [
    {
     "data": {
      "text/plain": [
       "0.6666666666666666"
      ]
     },
     "execution_count": 9,
     "metadata": {},
     "output_type": "execute_result"
    }
   ],
   "source": [
    "2/3\n"
   ]
  },
  {
   "cell_type": "code",
   "execution_count": 10,
   "id": "1d91e571-a3ae-4d27-aa05-6d26a2985266",
   "metadata": {},
   "outputs": [
    {
     "name": "stdout",
     "output_type": "stream",
     "text": [
      "hello\n"
     ]
    }
   ],
   "source": [
    "print('hello')\n"
   ]
  },
  {
   "cell_type": "code",
   "execution_count": 11,
   "id": "e4578fa5-c0d1-4894-b8ea-37c84b5b081e",
   "metadata": {},
   "outputs": [
    {
     "name": "stdout",
     "output_type": "stream",
     "text": [
      "hello \n",
      " world!\n"
     ]
    }
   ],
   "source": [
    "print('hello \\n world!')\n"
   ]
  },
  {
   "cell_type": "code",
   "execution_count": 12,
   "id": "c0529073-4b76-45a8-a11d-16828a169769",
   "metadata": {},
   "outputs": [
    {
     "data": {
      "text/plain": [
       "'world'"
      ]
     },
     "execution_count": 12,
     "metadata": {},
     "output_type": "execute_result"
    }
   ],
   "source": [
    "'hello'\n",
    "'world'"
   ]
  },
  {
   "cell_type": "code",
   "execution_count": 13,
   "id": "1a369209-8143-445e-98a5-1ab194079b4a",
   "metadata": {},
   "outputs": [
    {
     "name": "stdout",
     "output_type": "stream",
     "text": [
      "hello\n",
      "world\n"
     ]
    }
   ],
   "source": [
    "print('hello')\n",
    "print('world')\n"
   ]
  },
  {
   "cell_type": "code",
   "execution_count": 14,
   "id": "c5fe0be5-179d-4d81-96f1-04d2c608db5a",
   "metadata": {},
   "outputs": [],
   "source": [
    "a = 'abcdefghijk'"
   ]
  },
  {
   "cell_type": "code",
   "execution_count": 15,
   "id": "487ccf95-a04d-4d68-91f8-49c9fc85644c",
   "metadata": {},
   "outputs": [
    {
     "data": {
      "text/plain": [
       "'bcdefgh'"
      ]
     },
     "execution_count": 15,
     "metadata": {},
     "output_type": "execute_result"
    }
   ],
   "source": [
    "a[1:8]"
   ]
  },
  {
   "cell_type": "code",
   "execution_count": 16,
   "id": "cf0c2b1d-467c-475b-a161-01995fcad191",
   "metadata": {},
   "outputs": [
    {
     "data": {
      "text/plain": [
       "'defghi'"
      ]
     },
     "execution_count": 16,
     "metadata": {},
     "output_type": "execute_result"
    }
   ],
   "source": [
    "a[3:9]"
   ]
  },
  {
   "cell_type": "code",
   "execution_count": 17,
   "id": "8de1dd3b-bc76-4bf4-b811-674786dcd7d6",
   "metadata": {},
   "outputs": [],
   "source": [
    "a = 'abcdefghijk'\n",
    "\n"
   ]
  },
  {
   "cell_type": "code",
   "execution_count": null,
   "id": "32a2c77c-f495-40c4-ae5d-f558dea821b3",
   "metadata": {},
   "outputs": [],
   "source": []
  },
  {
   "cell_type": "code",
   "execution_count": 18,
   "id": "4724c815-bf0e-42a5-81f3-55f8c22efc67",
   "metadata": {},
   "outputs": [
    {
     "data": {
      "text/plain": [
       "'abcdefghijk'"
      ]
     },
     "execution_count": 18,
     "metadata": {},
     "output_type": "execute_result"
    }
   ],
   "source": [
    "a"
   ]
  },
  {
   "cell_type": "code",
   "execution_count": 19,
   "id": "6d2fd1a2-702a-4a6c-a6e6-b5e0c29d61fd",
   "metadata": {},
   "outputs": [
    {
     "data": {
      "text/plain": [
       "'abcdefghijk'"
      ]
     },
     "execution_count": 19,
     "metadata": {},
     "output_type": "execute_result"
    }
   ],
   "source": [
    "a[::]"
   ]
  },
  {
   "cell_type": "code",
   "execution_count": 20,
   "id": "2ce2be05-f16b-47d1-b7ab-c693485e0aac",
   "metadata": {},
   "outputs": [
    {
     "data": {
      "text/plain": [
       "'acegik'"
      ]
     },
     "execution_count": 20,
     "metadata": {},
     "output_type": "execute_result"
    }
   ],
   "source": [
    "a[::2]"
   ]
  },
  {
   "cell_type": "code",
   "execution_count": 21,
   "id": "29b9d448-5c97-4160-808b-4724018e3809",
   "metadata": {},
   "outputs": [
    {
     "data": {
      "text/plain": [
       "'adgj'"
      ]
     },
     "execution_count": 21,
     "metadata": {},
     "output_type": "execute_result"
    }
   ],
   "source": [
    "a[::3]"
   ]
  },
  {
   "cell_type": "code",
   "execution_count": 22,
   "id": "4f267cc8-6044-432b-a747-a9c65e5668fa",
   "metadata": {},
   "outputs": [
    {
     "data": {
      "text/plain": [
       "'abcdefghijk'"
      ]
     },
     "execution_count": 22,
     "metadata": {},
     "output_type": "execute_result"
    }
   ],
   "source": [
    "a"
   ]
  },
  {
   "cell_type": "code",
   "execution_count": 24,
   "id": "c096f8aa-2c69-4d51-bf4f-d6f7c3b81653",
   "metadata": {},
   "outputs": [],
   "source": [
    "a = 'abdoeceil'"
   ]
  },
  {
   "cell_type": "code",
   "execution_count": 25,
   "id": "8bf85edd-4207-46f8-af95-a229e3076ce9",
   "metadata": {},
   "outputs": [
    {
     "data": {
      "text/plain": [
       "'abdoeceil'"
      ]
     },
     "execution_count": 25,
     "metadata": {},
     "output_type": "execute_result"
    }
   ],
   "source": [
    "a"
   ]
  },
  {
   "cell_type": "code",
   "execution_count": 26,
   "id": "cfadf6c0-2f3b-46b8-807d-12bee41bd3d9",
   "metadata": {},
   "outputs": [
    {
     "data": {
      "text/plain": [
       "'adeel'"
      ]
     },
     "execution_count": 26,
     "metadata": {},
     "output_type": "execute_result"
    }
   ],
   "source": [
    "a[::2]"
   ]
  },
  {
   "cell_type": "code",
   "execution_count": 42,
   "id": "34318bdd-536d-457b-ac1f-65dbb9aae14f",
   "metadata": {},
   "outputs": [],
   "source": [
    "a = 'abdoeceil--adbsbzats'"
   ]
  },
  {
   "cell_type": "code",
   "execution_count": 43,
   "id": "f0c3f197-d89a-4e7b-8087-e484fd02956c",
   "metadata": {},
   "outputs": [
    {
     "data": {
      "text/plain": [
       "'abdoeceil--adbsbzats'"
      ]
     },
     "execution_count": 43,
     "metadata": {},
     "output_type": "execute_result"
    }
   ],
   "source": [
    "a"
   ]
  },
  {
   "cell_type": "code",
   "execution_count": 44,
   "id": "748bd4cd-04d3-4a9d-b8c9-a7f2af4594ac",
   "metadata": {},
   "outputs": [
    {
     "data": {
      "text/plain": [
       "'adeel-dszt'"
      ]
     },
     "execution_count": 44,
     "metadata": {},
     "output_type": "execute_result"
    }
   ],
   "source": [
    "a[::2]"
   ]
  },
  {
   "cell_type": "code",
   "execution_count": 45,
   "id": "47dedbdd-c225-40e6-857d-c653657d2f63",
   "metadata": {},
   "outputs": [
    {
     "data": {
      "text/plain": [
       "'h'"
      ]
     },
     "execution_count": 45,
     "metadata": {},
     "output_type": "execute_result"
    }
   ],
   "source": [
    "'hello world'[0]"
   ]
  },
  {
   "cell_type": "code",
   "execution_count": 56,
   "id": "15b318a9-1850-4533-8359-1bc10057c381",
   "metadata": {},
   "outputs": [],
   "source": [
    "s ='hello World!'"
   ]
  },
  {
   "cell_type": "code",
   "execution_count": 57,
   "id": "b8059d58-d555-4cc4-a88c-2fccdc3369c5",
   "metadata": {},
   "outputs": [
    {
     "data": {
      "text/plain": [
       "'hello World!'"
      ]
     },
     "execution_count": 57,
     "metadata": {},
     "output_type": "execute_result"
    }
   ],
   "source": [
    "s"
   ]
  },
  {
   "cell_type": "code",
   "execution_count": 58,
   "id": "11ff22bb-4d57-43da-95b4-00b0d14dee8a",
   "metadata": {},
   "outputs": [
    {
     "data": {
      "text/plain": [
       "'HELLO WORLD!'"
      ]
     },
     "execution_count": 58,
     "metadata": {},
     "output_type": "execute_result"
    }
   ],
   "source": [
    "s.upper()"
   ]
  },
  {
   "cell_type": "code",
   "execution_count": 59,
   "id": "ca933487-2553-43c6-b65c-03da4812741b",
   "metadata": {},
   "outputs": [
    {
     "data": {
      "text/plain": [
       "'hello world!'"
      ]
     },
     "execution_count": 59,
     "metadata": {},
     "output_type": "execute_result"
    }
   ],
   "source": [
    "s.lower()"
   ]
  },
  {
   "cell_type": "code",
   "execution_count": 60,
   "id": "5a303e6f-ceb9-4e5e-a9b2-2c7fa0fc5823",
   "metadata": {},
   "outputs": [
    {
     "data": {
      "text/plain": [
       "['hello', 'World!']"
      ]
     },
     "execution_count": 60,
     "metadata": {},
     "output_type": "execute_result"
    }
   ],
   "source": [
    "s.split()"
   ]
  },
  {
   "cell_type": "code",
   "execution_count": 66,
   "id": "836f33e5-57b1-4aed-8a28-edfbd5e1962f",
   "metadata": {},
   "outputs": [],
   "source": [
    "s = '  hi this is adeel a cloud engineer at piecebyte'"
   ]
  },
  {
   "cell_type": "code",
   "execution_count": 67,
   "id": "1de78a13-96c5-4c1a-8d5f-c49fa4212a25",
   "metadata": {},
   "outputs": [
    {
     "data": {
      "text/plain": [
       "'  hi this is adeel a cloud engineer at piecebyte'"
      ]
     },
     "execution_count": 67,
     "metadata": {},
     "output_type": "execute_result"
    }
   ],
   "source": [
    "s"
   ]
  },
  {
   "cell_type": "code",
   "execution_count": 70,
   "id": "d88227b4-4b7d-46ed-b0df-c6e90ca742a8",
   "metadata": {},
   "outputs": [
    {
     "data": {
      "text/plain": [
       "['  h', ' th', 's ', 's adeel a cloud eng', 'neer at p', 'ecebyte']"
      ]
     },
     "execution_count": 70,
     "metadata": {},
     "output_type": "execute_result"
    }
   ],
   "source": [
    "s.split('i')"
   ]
  },
  {
   "cell_type": "code",
   "execution_count": 71,
   "id": "f41c08e8-8db6-4ee6-a5f2-1bfa2c50a0ba",
   "metadata": {},
   "outputs": [],
   "source": [
    "a = 'what is amazon web services'"
   ]
  },
  {
   "cell_type": "code",
   "execution_count": 72,
   "id": "ea325ce6-d586-49c7-a9be-acb9d6e99409",
   "metadata": {},
   "outputs": [
    {
     "data": {
      "text/plain": [
       "'what is amazon web services'"
      ]
     },
     "execution_count": 72,
     "metadata": {},
     "output_type": "execute_result"
    }
   ],
   "source": [
    "a"
   ]
  },
  {
   "cell_type": "code",
   "execution_count": 87,
   "id": "0fd966e7-ced8-4e16-8e77-b8bdf7444390",
   "metadata": {},
   "outputs": [
    {
     "name": "stdout",
     "output_type": "stream",
     "text": [
      "format\n"
     ]
    }
   ],
   "source": [
    "print('{1}' .format('inserted', 'format') )"
   ]
  },
  {
   "cell_type": "code",
   "execution_count": 92,
   "id": "67af44e6-eaf3-4792-bcca-e6845b80030b",
   "metadata": {},
   "outputs": [],
   "source": [
    "r = 100/7"
   ]
  },
  {
   "cell_type": "code",
   "execution_count": 93,
   "id": "fdc99b2f-678a-49c5-b5dc-380a7c1bc08c",
   "metadata": {},
   "outputs": [
    {
     "data": {
      "text/plain": [
       "14.285714285714286"
      ]
     },
     "execution_count": 93,
     "metadata": {},
     "output_type": "execute_result"
    }
   ],
   "source": [
    "r"
   ]
  },
  {
   "cell_type": "code",
   "execution_count": 98,
   "id": "d624ddfe-5006-41f4-82a9-343013ca807f",
   "metadata": {},
   "outputs": [
    {
     "name": "stdout",
     "output_type": "stream",
     "text": [
      "the result was     14.286\n"
     ]
    }
   ],
   "source": [
    "print('the result was {result:10.3f}'.format(result=r))"
   ]
  },
  {
   "cell_type": "code",
   "execution_count": 2,
   "id": "cc5f626e-69f1-4f01-a913-009026181178",
   "metadata": {},
   "outputs": [],
   "source": [
    "list = ' apple ', ' banana ',  'mango'"
   ]
  },
  {
   "cell_type": "code",
   "execution_count": 3,
   "id": "49cfea50-5bb9-4857-9549-daa42fbac015",
   "metadata": {},
   "outputs": [
    {
     "data": {
      "text/plain": [
       "(' apple ', ' banana ', 'mango')"
      ]
     },
     "execution_count": 3,
     "metadata": {},
     "output_type": "execute_result"
    }
   ],
   "source": [
    "list"
   ]
  },
  {
   "cell_type": "code",
   "execution_count": 11,
   "id": "a46be1c2-b983-4ed4-8c8a-a5d9611e29b8",
   "metadata": {},
   "outputs": [],
   "source": [
    "num_list = [1, 2, 3, 4, 5]"
   ]
  },
  {
   "cell_type": "code",
   "execution_count": 12,
   "id": "1790ed71-3430-41b7-b678-32ce89ceb51e",
   "metadata": {},
   "outputs": [
    {
     "data": {
      "text/plain": [
       "[1, 2, 3, 4, 5]"
      ]
     },
     "execution_count": 12,
     "metadata": {},
     "output_type": "execute_result"
    }
   ],
   "source": [
    "num_list"
   ]
  },
  {
   "cell_type": "code",
   "execution_count": 13,
   "id": "a403735c-d3f1-4fb2-86a8-edeffdbc48b5",
   "metadata": {},
   "outputs": [],
   "source": [
    "num_list.sort()"
   ]
  },
  {
   "cell_type": "code",
   "execution_count": 14,
   "id": "51feeaba-a95f-4a99-b57f-5fa2a7208b59",
   "metadata": {},
   "outputs": [
    {
     "data": {
      "text/plain": [
       "[1, 2, 3, 4, 5]"
      ]
     },
     "execution_count": 14,
     "metadata": {},
     "output_type": "execute_result"
    }
   ],
   "source": [
    "num_list"
   ]
  },
  {
   "cell_type": "code",
   "execution_count": 15,
   "id": "a5c14a66-d0ed-4aeb-b6c2-b992f14678a5",
   "metadata": {},
   "outputs": [],
   "source": [
    "num_list.reverse()"
   ]
  },
  {
   "cell_type": "code",
   "execution_count": 16,
   "id": "7afe6ebf-2b08-454e-a21e-2a88405b13e7",
   "metadata": {},
   "outputs": [
    {
     "data": {
      "text/plain": [
       "[5, 4, 3, 2, 1]"
      ]
     },
     "execution_count": 16,
     "metadata": {},
     "output_type": "execute_result"
    }
   ],
   "source": [
    "num_list"
   ]
  },
  {
   "cell_type": "code",
   "execution_count": 31,
   "id": "8c9a18cd-1ec4-4f93-ad58-898a31fc54f7",
   "metadata": {},
   "outputs": [],
   "source": [
    "i = {'key1' : 'hello', 'key2': 'world'}"
   ]
  },
  {
   "cell_type": "code",
   "execution_count": 32,
   "id": "f8c62e98-635e-4b84-95af-9f52614cb8c1",
   "metadata": {},
   "outputs": [
    {
     "data": {
      "text/plain": [
       "{'key1': 'hello', 'key2': 'world'}"
      ]
     },
     "execution_count": 32,
     "metadata": {},
     "output_type": "execute_result"
    }
   ],
   "source": [
    "i"
   ]
  },
  {
   "cell_type": "code",
   "execution_count": 33,
   "id": "b63ac0d4-200f-4d4d-b80d-f299320f6acf",
   "metadata": {},
   "outputs": [
    {
     "data": {
      "text/plain": [
       "'world'"
      ]
     },
     "execution_count": 33,
     "metadata": {},
     "output_type": "execute_result"
    }
   ],
   "source": [
    "i['key2']"
   ]
  },
  {
   "cell_type": "code",
   "execution_count": 34,
   "id": "75f395da-a4c9-46b2-885e-2b27681b948b",
   "metadata": {
    "scrolled": true
   },
   "outputs": [
    {
     "data": {
      "text/plain": [
       "dict_items([('key1', 'hello'), ('key2', 'world')])"
      ]
     },
     "execution_count": 34,
     "metadata": {},
     "output_type": "execute_result"
    }
   ],
   "source": [
    "i.items()"
   ]
  },
  {
   "cell_type": "code",
   "execution_count": null,
   "id": "94f0d094-5011-4241-ac9b-bc30180515ad",
   "metadata": {},
   "outputs": [],
   "source": []
  },
  {
   "cell_type": "code",
   "execution_count": 35,
   "id": "5a03de3e-6124-4fb2-91d0-1b7dfc9d3c39",
   "metadata": {},
   "outputs": [
    {
     "data": {
      "text/plain": [
       "{'key1': 'hello', 'key2': 'world'}"
      ]
     },
     "execution_count": 35,
     "metadata": {},
     "output_type": "execute_result"
    }
   ],
   "source": [
    "i"
   ]
  },
  {
   "cell_type": "code",
   "execution_count": 36,
   "id": "60833e6a-b8e1-48a7-944d-41a9f783855a",
   "metadata": {},
   "outputs": [
    {
     "data": {
      "text/plain": [
       "dict_keys(['key1', 'key2'])"
      ]
     },
     "execution_count": 36,
     "metadata": {},
     "output_type": "execute_result"
    }
   ],
   "source": [
    "i.keys()"
   ]
  },
  {
   "cell_type": "code",
   "execution_count": null,
   "id": "755e080e-85be-443d-addc-a5af32943538",
   "metadata": {},
   "outputs": [],
   "source": []
  },
  {
   "cell_type": "code",
   "execution_count": null,
   "id": "de2cb46c-20b7-4a38-beb9-469c215e0bbb",
   "metadata": {},
   "outputs": [],
   "source": []
  },
  {
   "cell_type": "code",
   "execution_count": 39,
   "id": "2ac54c1c-7b5f-454c-8081-fa5a99639757",
   "metadata": {},
   "outputs": [
    {
     "name": "stdout",
     "output_type": "stream",
     "text": [
      "ello\n"
     ]
    }
   ],
   "source": [
    "print('ello')"
   ]
  },
  {
   "cell_type": "code",
   "execution_count": 41,
   "id": "c3cdce98-0cf2-4821-a041-50f4a9c60cca",
   "metadata": {},
   "outputs": [],
   "source": [
    "dictionary = {'k1':1, 'k2':2}"
   ]
  },
  {
   "cell_type": "code",
   "execution_count": 42,
   "id": "bc3ba026-5783-45ed-ae36-6fccf3f348f3",
   "metadata": {},
   "outputs": [
    {
     "data": {
      "text/plain": [
       "{'k1': 1, 'k2': 2}"
      ]
     },
     "execution_count": 42,
     "metadata": {},
     "output_type": "execute_result"
    }
   ],
   "source": [
    "dictionary"
   ]
  },
  {
   "cell_type": "code",
   "execution_count": 43,
   "id": "cfdc2ddc-0715-48bb-b866-47eda3c375b6",
   "metadata": {},
   "outputs": [
    {
     "data": {
      "text/plain": [
       "dict_items([('k1', 1), ('k2', 2)])"
      ]
     },
     "execution_count": 43,
     "metadata": {},
     "output_type": "execute_result"
    }
   ],
   "source": [
    "dictionary.items()"
   ]
  },
  {
   "cell_type": "code",
   "execution_count": 44,
   "id": "b33e3cab-a20e-48c5-9ae1-780a8a0218d7",
   "metadata": {},
   "outputs": [
    {
     "data": {
      "text/plain": [
       "dict_keys(['k1', 'k2'])"
      ]
     },
     "execution_count": 44,
     "metadata": {},
     "output_type": "execute_result"
    }
   ],
   "source": [
    "dictionary.keys()"
   ]
  },
  {
   "cell_type": "code",
   "execution_count": 55,
   "id": "e02c544b-1e25-4a63-8783-f39a6beb4ed3",
   "metadata": {},
   "outputs": [
    {
     "name": "stdout",
     "output_type": "stream",
     "text": [
      "i = 5\n"
     ]
    }
   ],
   "source": [
    "intg =5\n",
    "print('i = {i}'.format(i=intg))"
   ]
  },
  {
   "cell_type": "code",
   "execution_count": 58,
   "id": "a4166541-6444-47bc-8154-e144eea6db16",
   "metadata": {},
   "outputs": [
    {
     "name": "stdin",
     "output_type": "stream",
     "text": [
      "Enter Fname :  adeel\n"
     ]
    },
    {
     "name": "stdout",
     "output_type": "stream",
     "text": [
      "Fname is : adeel\n"
     ]
    }
   ],
   "source": [
    "fname = input(\"Enter Fname : \")\n",
    "print('Fname is : '+ fname)"
   ]
  },
  {
   "cell_type": "code",
   "execution_count": 59,
   "id": "22ca70e8-ed8d-4cb1-b1ee-38ad7811dd8d",
   "metadata": {},
   "outputs": [
    {
     "name": "stdin",
     "output_type": "stream",
     "text": [
      "Enter Num1 :  5\n",
      "Enter Num2 :  5\n",
      "Enter Operator + - * / :  *\n"
     ]
    },
    {
     "name": "stdout",
     "output_type": "stream",
     "text": [
      "Mul is 25.0\n"
     ]
    }
   ],
   "source": [
    "num1 = input('Enter Num1 : ')\n",
    "num2 = input('Enter Num2 : ')\n",
    "operator = input('Enter Operator + - * / : ')\n",
    "if operator == '+':\n",
    "    sum = float(num1) + float(num2)\n",
    "    print('Sum is ' + str(sum))\n",
    "\n",
    "\n",
    "elif operator == '-':\n",
    "    sub = float(num1) - float(num2)\n",
    "    print('Sub is ' + str(sub))\n",
    "\n",
    "elif operator == '*':\n",
    "    mul = float(num1) * float(num2)\n",
    "    print('Mul is ' + str(mul))\n",
    "\n",
    "elif operator == '/':\n",
    "    div = float(num1) / float(num2)\n",
    "    print('Div is ' + str(div))\n",
    "\n",
    "else :\n",
    "    print('Invalid')    \n",
    "\n",
    "\n"
   ]
  },
  {
   "cell_type": "code",
   "execution_count": 62,
   "id": "a7231e77-86aa-49f7-88ad-b29af85ba0c9",
   "metadata": {},
   "outputs": [
    {
     "name": "stdin",
     "output_type": "stream",
     "text": [
      "Enter Num1 :  5\n",
      "Enter Num2 :  5\n",
      "Enter Operator + - * / :  /\n"
     ]
    },
    {
     "name": "stdout",
     "output_type": "stream",
     "text": [
      "Div is 1.0\n"
     ]
    }
   ],
   "source": [
    "num1 = input('Enter Num1 : ')\n",
    "num2 = input('Enter Num2 : ')\n",
    "operator = input('Enter Operator + - * / : ')\n",
    "if operator == '+':\n",
    "    sum = float(num1) + float(num2)\n",
    "    print('Sum is ' + str(sum))\n",
    "\n",
    "\n",
    "elif operator == '-':\n",
    "    sub = float(num1) - float(num2)\n",
    "    print('Sub is ' + str(sub))\n",
    "\n",
    "elif operator == '*':\n",
    "    mul = float(num1) * float(num2)\n",
    "    print('Mul is ' + str(mul))\n",
    "\n",
    "elif operator == '/':\n",
    "    div = float(num1) / float(num2)\n",
    "    print('Div is ' + str(div))\n",
    "\n",
    "else :\n",
    "    print('Invalid')    \n",
    "\n",
    "\n"
   ]
  },
  {
   "cell_type": "code",
   "execution_count": 1,
   "id": "ee08ec27-ca6b-4785-8719-d79edc870ce5",
   "metadata": {},
   "outputs": [
    {
     "data": {
      "text/plain": [
       "'ello'"
      ]
     },
     "execution_count": 1,
     "metadata": {},
     "output_type": "execute_result"
    }
   ],
   "source": [
    "'ello'\n"
   ]
  },
  {
   "cell_type": "code",
   "execution_count": 2,
   "id": "b026637e-fc41-4eff-be62-8502e78e39f5",
   "metadata": {},
   "outputs": [],
   "source": [
    "list = [1,2,3,4,5]"
   ]
  },
  {
   "cell_type": "code",
   "execution_count": 3,
   "id": "cd06b1b3-124f-41eb-8b96-1bab01b6c7e7",
   "metadata": {},
   "outputs": [
    {
     "data": {
      "text/plain": [
       "[1, 2, 3, 4, 5]"
      ]
     },
     "execution_count": 3,
     "metadata": {},
     "output_type": "execute_result"
    }
   ],
   "source": [
    "list"
   ]
  },
  {
   "cell_type": "code",
   "execution_count": 19,
   "id": "b7f9a4dc-736c-45f8-b5be-e4b00faaa767",
   "metadata": {},
   "outputs": [],
   "source": [
    "list = [1,2,3,1,2,3,4,2,1,3,4,5,6,3,2,1,2,3]"
   ]
  },
  {
   "cell_type": "code",
   "execution_count": 20,
   "id": "06cd2ccc-be18-49c8-83b0-f862403b76c7",
   "metadata": {},
   "outputs": [
    {
     "data": {
      "text/plain": [
       "[1, 2, 3, 1, 2, 3, 4, 2, 1, 3, 4, 5, 6, 3, 2, 1, 2, 3]"
      ]
     },
     "execution_count": 20,
     "metadata": {},
     "output_type": "execute_result"
    }
   ],
   "source": [
    "list"
   ]
  },
  {
   "cell_type": "code",
   "execution_count": 21,
   "id": "2279411c-6d84-4b4b-b250-c21605262f8a",
   "metadata": {},
   "outputs": [
    {
     "data": {
      "text/plain": [
       "{1, 2, 3, 4, 5, 6}"
      ]
     },
     "execution_count": 21,
     "metadata": {},
     "output_type": "execute_result"
    }
   ],
   "source": [
    "set(list)"
   ]
  },
  {
   "cell_type": "code",
   "execution_count": 22,
   "id": "6af07af5-de9e-4050-8c22-de108a31904f",
   "metadata": {},
   "outputs": [],
   "source": [
    "list.reverse()"
   ]
  },
  {
   "cell_type": "code",
   "execution_count": 23,
   "id": "5d67c5e6-a73e-494f-a3d8-cae55545d64e",
   "metadata": {},
   "outputs": [
    {
     "data": {
      "text/plain": [
       "[3, 2, 1, 2, 3, 6, 5, 4, 3, 1, 2, 4, 3, 2, 1, 3, 2, 1]"
      ]
     },
     "execution_count": 23,
     "metadata": {},
     "output_type": "execute_result"
    }
   ],
   "source": [
    "list"
   ]
  },
  {
   "cell_type": "code",
   "execution_count": null,
   "id": "2da11391-a16a-4c5a-baed-7f777513ab6e",
   "metadata": {},
   "outputs": [],
   "source": []
  },
  {
   "cell_type": "code",
   "execution_count": 24,
   "id": "b9ec4a5b-6464-43f6-98b0-f38350d5141a",
   "metadata": {},
   "outputs": [
    {
     "data": {
      "text/plain": [
       "{'M', 'i', 'p', 's'}"
      ]
     },
     "execution_count": 24,
     "metadata": {},
     "output_type": "execute_result"
    }
   ],
   "source": [
    "set('Mississippi')"
   ]
  },
  {
   "cell_type": "code",
   "execution_count": 25,
   "id": "4153b110-6cce-48ea-8335-376c6b4b0199",
   "metadata": {},
   "outputs": [
    {
     "data": {
      "text/plain": [
       "True"
      ]
     },
     "execution_count": 25,
     "metadata": {},
     "output_type": "execute_result"
    }
   ],
   "source": [
    "True "
   ]
  },
  {
   "cell_type": "code",
   "execution_count": 26,
   "id": "24cbd3f0-9fcf-4af1-8883-c8ef69ecb2d0",
   "metadata": {},
   "outputs": [
    {
     "data": {
      "text/plain": [
       "False"
      ]
     },
     "execution_count": 26,
     "metadata": {},
     "output_type": "execute_result"
    }
   ],
   "source": [
    "False"
   ]
  },
  {
   "cell_type": "code",
   "execution_count": 27,
   "id": "7fbc159a-6db2-46d7-9736-eabda78a01e0",
   "metadata": {},
   "outputs": [
    {
     "data": {
      "text/plain": [
       "True"
      ]
     },
     "execution_count": 27,
     "metadata": {},
     "output_type": "execute_result"
    }
   ],
   "source": [
    "1<2"
   ]
  },
  {
   "cell_type": "code",
   "execution_count": 28,
   "id": "a1e2542b-2127-485b-adb6-4b37338a7903",
   "metadata": {},
   "outputs": [
    {
     "data": {
      "text/plain": [
       "True"
      ]
     },
     "execution_count": 28,
     "metadata": {},
     "output_type": "execute_result"
    }
   ],
   "source": [
    "1!=2"
   ]
  },
  {
   "cell_type": "code",
   "execution_count": 29,
   "id": "9475630a-fbba-4693-a11d-9ddbc106e069",
   "metadata": {},
   "outputs": [
    {
     "data": {
      "text/plain": [
       "False"
      ]
     },
     "execution_count": 29,
     "metadata": {},
     "output_type": "execute_result"
    }
   ],
   "source": [
    "1==2"
   ]
  },
  {
   "cell_type": "code",
   "execution_count": 30,
   "id": "6af560d2-aa83-4bd9-bcd3-f9b91d179c09",
   "metadata": {},
   "outputs": [
    {
     "data": {
      "text/plain": [
       "bool"
      ]
     },
     "execution_count": 30,
     "metadata": {},
     "output_type": "execute_result"
    }
   ],
   "source": [
    "type(True)"
   ]
  },
  {
   "cell_type": "code",
   "execution_count": 32,
   "id": "63e1a5ef-2feb-4891-acde-39e7d9f6b492",
   "metadata": {},
   "outputs": [
    {
     "data": {
      "text/plain": [
       "'/Users/sadiq/Documents/python'"
      ]
     },
     "execution_count": 32,
     "metadata": {},
     "output_type": "execute_result"
    }
   ],
   "source": [
    "pwd"
   ]
  },
  {
   "cell_type": "code",
   "execution_count": 34,
   "id": "03caa3c1-3792-4129-9b97-cdc3ff4c370f",
   "metadata": {},
   "outputs": [
    {
     "name": "stdout",
     "output_type": "stream",
     "text": [
      "Writing textFile.txt\n"
     ]
    }
   ],
   "source": [
    "%%writefile textFile.txt\n",
    "hello, world!\n",
    "ello, wold!"
   ]
  },
  {
   "cell_type": "code",
   "execution_count": 48,
   "id": "b3d71e86-7a0b-476d-a51e-d6203d42ae68",
   "metadata": {},
   "outputs": [
    {
     "name": "stdout",
     "output_type": "stream",
     "text": [
      "hello, world!\n",
      "ello, wold!\n"
     ]
    }
   ],
   "source": [
    "cat textFile.txt"
   ]
  },
  {
   "cell_type": "code",
   "execution_count": 49,
   "id": "125f3084-30b6-46e4-a821-f191cdf50cd9",
   "metadata": {},
   "outputs": [],
   "source": [
    "wf= open('textFile.txt')"
   ]
  },
  {
   "cell_type": "code",
   "execution_count": 50,
   "id": "5b0bc2d4-6eef-49ca-828e-465d07a02f34",
   "metadata": {},
   "outputs": [
    {
     "data": {
      "text/plain": [
       "'hello, world!\\nello, wold!\\n'"
      ]
     },
     "execution_count": 50,
     "metadata": {},
     "output_type": "execute_result"
    }
   ],
   "source": [
    "wf.read()"
   ]
  },
  {
   "cell_type": "code",
   "execution_count": 51,
   "id": "292b6d1a-d995-4df6-84ff-e4b71468c40f",
   "metadata": {},
   "outputs": [
    {
     "data": {
      "text/plain": [
       "''"
      ]
     },
     "execution_count": 51,
     "metadata": {},
     "output_type": "execute_result"
    }
   ],
   "source": [
    "wf.read()"
   ]
  },
  {
   "cell_type": "code",
   "execution_count": 52,
   "id": "69d0e850-1e68-4965-8ce2-3c9c7ab22a5f",
   "metadata": {},
   "outputs": [
    {
     "data": {
      "text/plain": [
       "0"
      ]
     },
     "execution_count": 52,
     "metadata": {},
     "output_type": "execute_result"
    }
   ],
   "source": [
    "wf.seek(0)"
   ]
  },
  {
   "cell_type": "code",
   "execution_count": 53,
   "id": "a18a6cda-8a5e-4190-88e8-7aec8afacfcb",
   "metadata": {},
   "outputs": [
    {
     "data": {
      "text/plain": [
       "'hello, world!\\nello, wold!\\n'"
      ]
     },
     "execution_count": 53,
     "metadata": {},
     "output_type": "execute_result"
    }
   ],
   "source": [
    "wf.read()"
   ]
  },
  {
   "cell_type": "code",
   "execution_count": 55,
   "id": "050128dd-e40a-412b-81c0-030f5fa78698",
   "metadata": {},
   "outputs": [
    {
     "data": {
      "text/plain": [
       "0"
      ]
     },
     "execution_count": 55,
     "metadata": {},
     "output_type": "execute_result"
    }
   ],
   "source": [
    "wf.seek(0)"
   ]
  },
  {
   "cell_type": "code",
   "execution_count": 56,
   "id": "97710654-9790-4a6d-b90f-f25de13d5fe0",
   "metadata": {},
   "outputs": [
    {
     "data": {
      "text/plain": [
       "['hello, world!\\n', 'ello, wold!\\n']"
      ]
     },
     "execution_count": 56,
     "metadata": {},
     "output_type": "execute_result"
    }
   ],
   "source": [
    "wf.readlines()"
   ]
  },
  {
   "cell_type": "code",
   "execution_count": 57,
   "id": "7871f1ef-8a3d-413d-8925-f59561e7a980",
   "metadata": {},
   "outputs": [
    {
     "name": "stdout",
     "output_type": "stream",
     "text": [
      "Overwriting textFile.txt\n"
     ]
    }
   ],
   "source": [
    "%%writefile textFile.txt\n",
    "hello, world!\n",
    "ello, wold!\n"
   ]
  },
  {
   "cell_type": "code",
   "execution_count": 58,
   "id": "88a2d3fa-e440-4b94-9943-bd8d24465e9f",
   "metadata": {},
   "outputs": [
    {
     "name": "stdout",
     "output_type": "stream",
     "text": [
      "hello, world!\n",
      "ello, wold!\n",
      "\n"
     ]
    }
   ],
   "source": [
    "with open('textFile.txt', mode = 'r') as r:\n",
    "    print(r.read())\n",
    "    "
   ]
  },
  {
   "cell_type": "code",
   "execution_count": 60,
   "id": "6f3f5bb3-894b-4c82-84f4-2e92cb8ead61",
   "metadata": {},
   "outputs": [],
   "source": [
    "with open('textFile.txt', mode= 'a') as ar:\n",
    "    ar.write('hallo word')\n",
    "    "
   ]
  },
  {
   "cell_type": "code",
   "execution_count": 61,
   "id": "b7cf8757-411e-4e04-ad89-ab6d9a13c4f3",
   "metadata": {},
   "outputs": [
    {
     "name": "stdout",
     "output_type": "stream",
     "text": [
      "hello, world!\n",
      "ello, wold!\n",
      "hallo word"
     ]
    }
   ],
   "source": [
    "cat textFile.txt"
   ]
  },
  {
   "cell_type": "code",
   "execution_count": 6,
   "id": "b5b81ee9-eafd-4e4f-ac45-f5d91e11e18a",
   "metadata": {},
   "outputs": [
    {
     "name": "stdout",
     "output_type": "stream",
     "text": [
      "Overwriting tf.txt\n"
     ]
    }
   ],
   "source": [
    "%%writefile tf.txt\n",
    "this is laptop\n",
    "this is mac\n",
    "this is mac pro\n"
   ]
  },
  {
   "cell_type": "code",
   "execution_count": 7,
   "id": "66188691-80f5-4b72-a432-6629a2618802",
   "metadata": {},
   "outputs": [
    {
     "name": "stdout",
     "output_type": "stream",
     "text": [
      "this is laptop\n",
      "this is mac\n",
      "this is mac pro\n"
     ]
    }
   ],
   "source": [
    "cat tf.txt"
   ]
  },
  {
   "cell_type": "code",
   "execution_count": 8,
   "id": "b5585f69-4977-4680-95d9-26c48aaf6b75",
   "metadata": {},
   "outputs": [
    {
     "name": "stdout",
     "output_type": "stream",
     "text": [
      "this is laptop\n",
      "this is mac\n",
      "this is mac pro\n",
      "\n"
     ]
    }
   ],
   "source": [
    "with open('tf.txt', mode = 'r') as f:\n",
    "    print(f.read())"
   ]
  },
  {
   "cell_type": "code",
   "execution_count": 9,
   "id": "1acdbcc8-e1dd-4fde-9032-c543185f24f7",
   "metadata": {},
   "outputs": [],
   "source": [
    "with open('tf.txt', mode = 'a') as f:\n",
    "    f.write('this is mac pro m1')"
   ]
  },
  {
   "cell_type": "code",
   "execution_count": 10,
   "id": "3a94d507-4d51-4238-a942-4ce28a822d82",
   "metadata": {},
   "outputs": [
    {
     "name": "stdout",
     "output_type": "stream",
     "text": [
      "this is laptop\n",
      "this is mac\n",
      "this is mac pro\n",
      "this is mac pro m1\n"
     ]
    }
   ],
   "source": [
    "with open('tf.txt', mode = 'r') as f:\n",
    "    print(f.read())"
   ]
  },
  {
   "cell_type": "code",
   "execution_count": 23,
   "id": "9b97dfb3-d92b-4381-934b-b37382df1940",
   "metadata": {},
   "outputs": [],
   "source": [
    "list1 = [5, 2, 3, 1, 4]"
   ]
  },
  {
   "cell_type": "code",
   "execution_count": 12,
   "id": "038ba7a2-7b51-4297-b48d-b8a9590ae0b4",
   "metadata": {},
   "outputs": [
    {
     "data": {
      "text/plain": [
       "[1, 2, 3, 4, 5]"
      ]
     },
     "execution_count": 12,
     "metadata": {},
     "output_type": "execute_result"
    }
   ],
   "source": [
    "sorted(list1)"
   ]
  },
  {
   "cell_type": "code",
   "execution_count": 24,
   "id": "dd34d012-3c35-42bb-a37f-0eb56dd2fc2e",
   "metadata": {},
   "outputs": [
    {
     "data": {
      "text/plain": [
       "[5, 2, 3, 1, 4]"
      ]
     },
     "execution_count": 24,
     "metadata": {},
     "output_type": "execute_result"
    }
   ],
   "source": [
    "list1"
   ]
  },
  {
   "cell_type": "code",
   "execution_count": 25,
   "id": "7e3db5a8-5b3b-406a-818d-a7cf7103445d",
   "metadata": {},
   "outputs": [
    {
     "data": {
      "text/plain": [
       "[5, 2, 3, 1, 4]"
      ]
     },
     "execution_count": 25,
     "metadata": {},
     "output_type": "execute_result"
    }
   ],
   "source": [
    "list1"
   ]
  },
  {
   "cell_type": "code",
   "execution_count": 31,
   "id": "53a96eda-f93d-48a7-9c94-84a15d92efe8",
   "metadata": {},
   "outputs": [],
   "source": [
    "list1.sort()"
   ]
  },
  {
   "cell_type": "code",
   "execution_count": 32,
   "id": "49eccaa9-87e6-4849-ad42-dae7a0315600",
   "metadata": {},
   "outputs": [
    {
     "data": {
      "text/plain": [
       "[1, 2, 3, 4, 5]"
      ]
     },
     "execution_count": 32,
     "metadata": {},
     "output_type": "execute_result"
    }
   ],
   "source": [
    "list1"
   ]
  },
  {
   "cell_type": "code",
   "execution_count": 33,
   "id": "1b78b2a1-a727-4e0a-8589-a5937cbba9cb",
   "metadata": {},
   "outputs": [
    {
     "name": "stdout",
     "output_type": "stream",
     "text": [
      "None\n"
     ]
    }
   ],
   "source": [
    "print(s)"
   ]
  },
  {
   "cell_type": "code",
   "execution_count": 39,
   "id": "357a83e7-7385-432b-98f7-e771f0d1041a",
   "metadata": {},
   "outputs": [],
   "source": [
    "d = {'k1' : {'k2':'ello'}}"
   ]
  },
  {
   "cell_type": "code",
   "execution_count": 40,
   "id": "01857ece-74a8-408a-864d-ff16ec79400b",
   "metadata": {},
   "outputs": [
    {
     "data": {
      "text/plain": [
       "{'k1': {'k2': 'ello'}}"
      ]
     },
     "execution_count": 40,
     "metadata": {},
     "output_type": "execute_result"
    }
   ],
   "source": [
    "d"
   ]
  },
  {
   "cell_type": "code",
   "execution_count": 41,
   "id": "b600a346-4793-4101-880b-3ddcc6f5c5eb",
   "metadata": {},
   "outputs": [
    {
     "data": {
      "text/plain": [
       "{'k2': 'ello'}"
      ]
     },
     "execution_count": 41,
     "metadata": {},
     "output_type": "execute_result"
    }
   ],
   "source": [
    "d['k1']"
   ]
  },
  {
   "cell_type": "code",
   "execution_count": 42,
   "id": "ddd3b57d-358d-4371-8bf5-c5d9a46d2fd0",
   "metadata": {},
   "outputs": [
    {
     "data": {
      "text/plain": [
       "'ello'"
      ]
     },
     "execution_count": 42,
     "metadata": {},
     "output_type": "execute_result"
    }
   ],
   "source": [
    "d['k1']['k2']"
   ]
  },
  {
   "cell_type": "code",
   "execution_count": 2,
   "id": "a49eb765-5d83-4fb5-9c83-d435c48522d3",
   "metadata": {},
   "outputs": [
    {
     "data": {
      "text/plain": [
       "'----------------------16 November 2024--------------'"
      ]
     },
     "execution_count": 2,
     "metadata": {},
     "output_type": "execute_result"
    }
   ],
   "source": [
    "'----------------------16 November 2024--------------'"
   ]
  },
  {
   "cell_type": "code",
   "execution_count": 9,
   "id": "0e3d0ed4-9863-4869-8eda-82a125403f73",
   "metadata": {},
   "outputs": [
    {
     "data": {
      "text/plain": [
       "False"
      ]
     },
     "execution_count": 9,
     "metadata": {},
     "output_type": "execute_result"
    }
   ],
   "source": [
    "2 < 2"
   ]
  },
  {
   "cell_type": "code",
   "execution_count": 10,
   "id": "e31b6f71-6a17-44fa-b8ef-34b0e690f092",
   "metadata": {},
   "outputs": [
    {
     "data": {
      "text/plain": [
       "False"
      ]
     },
     "execution_count": 10,
     "metadata": {},
     "output_type": "execute_result"
    }
   ],
   "source": [
    "2 > 2"
   ]
  },
  {
   "cell_type": "code",
   "execution_count": 11,
   "id": "30f1bb8b-2cfb-4fb3-8a89-8c6583f8dc06",
   "metadata": {},
   "outputs": [
    {
     "data": {
      "text/plain": [
       "True"
      ]
     },
     "execution_count": 11,
     "metadata": {},
     "output_type": "execute_result"
    }
   ],
   "source": [
    "2 == 2"
   ]
  },
  {
   "cell_type": "code",
   "execution_count": 12,
   "id": "941fc914-5d4e-4045-b752-2fbf808b8bfe",
   "metadata": {},
   "outputs": [
    {
     "data": {
      "text/plain": [
       "False"
      ]
     },
     "execution_count": 12,
     "metadata": {},
     "output_type": "execute_result"
    }
   ],
   "source": [
    "2 != 2"
   ]
  },
  {
   "cell_type": "code",
   "execution_count": 14,
   "id": "c4802221-8d39-4560-be88-26ecd0f5b806",
   "metadata": {
    "collapsed": true,
    "jupyter": {
     "outputs_hidden": true
    }
   },
   "outputs": [
    {
     "data": {
      "text/plain": [
       "True"
      ]
     },
     "execution_count": 14,
     "metadata": {},
     "output_type": "execute_result"
    }
   ],
   "source": [
    "1 < 2 < 3"
   ]
  },
  {
   "cell_type": "code",
   "execution_count": 16,
   "id": "47347064-3a6b-45ce-b5bf-154d1ca673c4",
   "metadata": {},
   "outputs": [
    {
     "data": {
      "text/plain": [
       "True"
      ]
     },
     "execution_count": 16,
     "metadata": {},
     "output_type": "execute_result"
    }
   ],
   "source": [
    "2 < 5 and 6 > 1"
   ]
  },
  {
   "cell_type": "code",
   "execution_count": 17,
   "id": "4137f817-50b3-44db-a800-b87a123aee60",
   "metadata": {},
   "outputs": [
    {
     "data": {
      "text/plain": [
       "True"
      ]
     },
     "execution_count": 17,
     "metadata": {},
     "output_type": "execute_result"
    }
   ],
   "source": [
    "2 < 5 or 6 > 1"
   ]
  },
  {
   "cell_type": "code",
   "execution_count": 18,
   "id": "0f6a215a-62df-4e38-874e-1488487560e0",
   "metadata": {},
   "outputs": [
    {
     "data": {
      "text/plain": [
       "True"
      ]
     },
     "execution_count": 18,
     "metadata": {},
     "output_type": "execute_result"
    }
   ],
   "source": [
    "not (2 > 5)"
   ]
  },
  {
   "cell_type": "code",
   "execution_count": 20,
   "id": "0c994329-6dc7-4ad5-97dc-f7b09825cd8f",
   "metadata": {},
   "outputs": [
    {
     "name": "stdout",
     "output_type": "stream",
     "text": [
      "it is auto\n"
     ]
    }
   ],
   "source": [
    "shop = 'auto'\n",
    "\n",
    "if shop == 'bank' :\n",
    "    print('it is bank')\n",
    "elif shop == 'auto' :\n",
    "    print('it is auto')\n",
    "\n",
    "else :\n",
    "    print('Sorry')\n"
   ]
  },
  {
   "cell_type": "code",
   "execution_count": 22,
   "id": "114dee80-9f73-48f7-9ba2-550dacfed368",
   "metadata": {},
   "outputs": [
    {
     "name": "stdout",
     "output_type": "stream",
     "text": [
      "hello AD\n"
     ]
    }
   ],
   "source": [
    "name = 'ad'\n",
    "\n",
    "if name == 'aq' :\n",
    "    print('hello AQ')\n",
    "elif name == 'ad':\n",
    "    print('hello AD')"
   ]
  },
  {
   "cell_type": "code",
   "execution_count": 23,
   "id": "979f7af3-73e3-4e2f-92e9-86d2ed815944",
   "metadata": {},
   "outputs": [
    {
     "data": {
      "text/plain": [
       "'wassup'"
      ]
     },
     "execution_count": 23,
     "metadata": {},
     "output_type": "execute_result"
    }
   ],
   "source": [
    "'wassup'"
   ]
  },
  {
   "cell_type": "code",
   "execution_count": 24,
   "id": "fb678ca5-aac1-474f-b3eb-5a05845df5c3",
   "metadata": {},
   "outputs": [],
   "source": [
    "ml = [1, 2, 3, 4, 6, 6, 7, 8, 9, 10]"
   ]
  },
  {
   "cell_type": "code",
   "execution_count": 25,
   "id": "51ea110e-a1ae-4099-b928-8b6a3093ce5b",
   "metadata": {},
   "outputs": [
    {
     "name": "stdout",
     "output_type": "stream",
     "text": [
      "1\n",
      "2\n",
      "3\n",
      "4\n",
      "6\n",
      "6\n",
      "7\n",
      "8\n",
      "9\n",
      "10\n"
     ]
    }
   ],
   "source": [
    "for nums in ml :\n",
    "    print(nums)"
   ]
  },
  {
   "cell_type": "code",
   "execution_count": 26,
   "id": "e1b7f1d4-a120-400d-984f-175d5149e1c0",
   "metadata": {},
   "outputs": [
    {
     "data": {
      "text/plain": [
       "[1, 2, 3, 4, 6, 6, 7, 8, 9, 10]"
      ]
     },
     "execution_count": 26,
     "metadata": {},
     "output_type": "execute_result"
    }
   ],
   "source": [
    "ml"
   ]
  },
  {
   "cell_type": "code",
   "execution_count": 27,
   "id": "bdaed902-b37a-423d-a586-c2df4808e1e7",
   "metadata": {},
   "outputs": [
    {
     "name": "stdout",
     "output_type": "stream",
     "text": [
      "ello\n",
      "ello\n",
      "ello\n",
      "ello\n",
      "ello\n",
      "ello\n",
      "ello\n",
      "ello\n",
      "ello\n",
      "ello\n"
     ]
    }
   ],
   "source": [
    "for nums in ml :\n",
    "    print('ello')"
   ]
  },
  {
   "cell_type": "code",
   "execution_count": 30,
   "id": "0c373942-f34e-4694-a4aa-64c22dcdb908",
   "metadata": {},
   "outputs": [
    {
     "name": "stdout",
     "output_type": "stream",
     "text": [
      "2\n",
      "4\n",
      "6\n",
      "6\n",
      "8\n",
      "10\n"
     ]
    }
   ],
   "source": [
    "for nums in ml:\n",
    "    if nums % 2 == 0:\n",
    "        print(nums)"
   ]
  },
  {
   "cell_type": "code",
   "execution_count": 32,
   "id": "6f2fb52c-89c9-4048-9322-f37666a9f34b",
   "metadata": {},
   "outputs": [
    {
     "name": "stdout",
     "output_type": "stream",
     "text": [
      "1\n",
      "3\n",
      "7\n",
      "9\n"
     ]
    }
   ],
   "source": [
    "for nums in ml :\n",
    "    if nums % 2 != 0 :\n",
    "        print(nums)"
   ]
  },
  {
   "cell_type": "code",
   "execution_count": 59,
   "id": "a97215aa-7f6d-42be-b623-78b4e266a425",
   "metadata": {},
   "outputs": [],
   "source": [
    "n = [3, 4, 5, 6, 7, 8, 9, 10,\n",
    "11, 12, 13, 14, 15, 16, 17, 18, 19, 20,\n",
    "21, 22, 23, 24, 25, 26, 27, 28, 29, 30,\n",
    "31, 32, 33, 34, 35, 36, 37, 38, 39, 40,\n",
    "41, 42, 43, 44, 45, 46, 47, 48, 49, 50,\n",
    "51, 52, 53, 54, 55, 56, 57, 58, 59, 60,\n",
    "61, 62, 63, 64, 65, 66, 67, 68, 69, 70,\n",
    "71, 72, 73, 74, 75, 76, 77, 78, 79, 80,\n",
    "81, 82, 83, 84, 85, 86, 87, 88, 89, 90,\n",
    "91, 92, 93, 94, 95, 96, 97, 98, 99, 100]"
   ]
  },
  {
   "cell_type": "code",
   "execution_count": 60,
   "id": "b1f7b4ed-6473-499c-a187-21f8f29ad5c9",
   "metadata": {},
   "outputs": [
    {
     "name": "stdout",
     "output_type": "stream",
     "text": [
      "11\n",
      "13\n",
      "17\n",
      "19\n",
      "23\n",
      "29\n",
      "31\n",
      "37\n",
      "41\n",
      "43\n",
      "47\n",
      "53\n",
      "59\n",
      "61\n",
      "67\n",
      "71\n",
      "73\n",
      "79\n",
      "83\n",
      "89\n",
      "97\n"
     ]
    }
   ],
   "source": [
    "for p in n :\n",
    "      if p%2 != 0 and p%3 != 0 and p%5 != 0 and p%7 != 0 : \n",
    "        print(p)"
   ]
  },
  {
   "cell_type": "code",
   "execution_count": 61,
   "id": "24af81df-b222-4eb5-bcc7-8fc486b60fd7",
   "metadata": {},
   "outputs": [],
   "source": [
    "l = [(1, 2), (3, 4), (5, 6), (7, 8)]"
   ]
  },
  {
   "cell_type": "code",
   "execution_count": 62,
   "id": "8035bc62-85ce-430c-8712-96ec6c6b1289",
   "metadata": {},
   "outputs": [
    {
     "data": {
      "text/plain": [
       "[(1, 2), (3, 4), (5, 6), (7, 8)]"
      ]
     },
     "execution_count": 62,
     "metadata": {},
     "output_type": "execute_result"
    }
   ],
   "source": [
    "l"
   ]
  },
  {
   "cell_type": "code",
   "execution_count": 63,
   "id": "941739ff-f86d-437a-bb9c-f19a73304310",
   "metadata": {},
   "outputs": [
    {
     "data": {
      "text/plain": [
       "4"
      ]
     },
     "execution_count": 63,
     "metadata": {},
     "output_type": "execute_result"
    }
   ],
   "source": [
    "len(l)"
   ]
  },
  {
   "cell_type": "code",
   "execution_count": 64,
   "id": "c1cd1e8a-7007-4b2f-8664-c6f6eba6a557",
   "metadata": {},
   "outputs": [
    {
     "name": "stdout",
     "output_type": "stream",
     "text": [
      "(1, 2)\n",
      "(3, 4)\n",
      "(5, 6)\n",
      "(7, 8)\n"
     ]
    }
   ],
   "source": [
    "for i in l :\n",
    "    print (i)"
   ]
  },
  {
   "cell_type": "code",
   "execution_count": 73,
   "id": "5618fae7-789b-44ea-93e7-b41fdcc0177d",
   "metadata": {},
   "outputs": [
    {
     "data": {
      "text/plain": [
       "'tuple unpacking'"
      ]
     },
     "execution_count": 73,
     "metadata": {},
     "output_type": "execute_result"
    }
   ],
   "source": [
    "'tuple unpacking'"
   ]
  },
  {
   "cell_type": "code",
   "execution_count": 72,
   "id": "7e6e3a4b-4bee-4c6f-8a0b-aa025bfda39c",
   "metadata": {},
   "outputs": [
    {
     "name": "stdout",
     "output_type": "stream",
     "text": [
      "1\n",
      "3\n",
      "5\n",
      "7\n"
     ]
    }
   ],
   "source": [
    "for (a,b) in l :\n",
    "    print (a)\n",
    "    #print (b)"
   ]
  },
  {
   "cell_type": "code",
   "execution_count": 74,
   "id": "094ccc73-0229-4505-9966-1579ab5f7fa4",
   "metadata": {},
   "outputs": [
    {
     "name": "stdout",
     "output_type": "stream",
     "text": [
      "('k1', 1)\n",
      "('k2', 2)\n"
     ]
    }
   ],
   "source": [
    "d = {'k1' : 1, 'k2' : 2}\n",
    "\n",
    "for k in d.items () :\n",
    "    print(k)\n"
   ]
  },
  {
   "cell_type": "code",
   "execution_count": 81,
   "id": "9cc77acc-cbac-4713-8eca-b36bc55143bd",
   "metadata": {},
   "outputs": [
    {
     "name": "stdout",
     "output_type": "stream",
     "text": [
      "k1\n",
      "k2\n"
     ]
    }
   ],
   "source": [
    "d = {'k1' : 1, 'k2' : 2}\n",
    "\n",
    "for k,v in d.items () :\n",
    "    print(k)\n",
    "    #print(v)"
   ]
  },
  {
   "cell_type": "code",
   "execution_count": 87,
   "id": "93edef01-029e-4385-a311-5a3bd9643481",
   "metadata": {},
   "outputs": [
    {
     "name": "stdout",
     "output_type": "stream",
     "text": [
      "wow\n",
      "wow\n",
      "wow\n",
      "wow\n",
      "wow\n",
      "wow\n",
      "wow\n",
      "wow\n",
      "wow\n",
      "wow\n",
      "wow\n",
      "wow\n"
     ]
    }
   ],
   "source": [
    "for _ in 'Hello World!' :\n",
    "    print('wow')"
   ]
  },
  {
   "cell_type": "code",
   "execution_count": 3,
   "id": "34e91502-818b-4f17-a4ee-73dc058b3302",
   "metadata": {},
   "outputs": [
    {
     "data": {
      "text/plain": [
       "'noon  ----------------16-11-2024--------------'"
      ]
     },
     "execution_count": 3,
     "metadata": {},
     "output_type": "execute_result"
    }
   ],
   "source": [
    "'noon  ----------------16-11-2024--------------' "
   ]
  },
  {
   "cell_type": "code",
   "execution_count": 10,
   "id": "8abf7cdc-69ce-41a5-bb3c-0d0fca12275e",
   "metadata": {},
   "outputs": [],
   "source": [
    "x = 5\n",
    "\n",
    "while x > 5:\n",
    "    print(f'CV of x is {x}')"
   ]
  },
  {
   "cell_type": "code",
   "execution_count": 11,
   "id": "aaafac02-6c0e-483b-be1f-effcda839fec",
   "metadata": {},
   "outputs": [
    {
     "data": {
      "text/plain": [
       "5"
      ]
     },
     "execution_count": 11,
     "metadata": {},
     "output_type": "execute_result"
    }
   ],
   "source": [
    "x\n"
   ]
  },
  {
   "cell_type": "code",
   "execution_count": 12,
   "id": "587eddde-783b-4379-b24d-7e6aba10569b",
   "metadata": {},
   "outputs": [
    {
     "data": {
      "text/plain": [
       "5"
      ]
     },
     "execution_count": 12,
     "metadata": {},
     "output_type": "execute_result"
    }
   ],
   "source": [
    "t"
   ]
  },
  {
   "cell_type": "code",
   "execution_count": 16,
   "id": "24bdaf30-256c-43db-81d7-f8e5c9d464b3",
   "metadata": {},
   "outputs": [
    {
     "name": "stdout",
     "output_type": "stream",
     "text": [
      "CV of t is 0\n",
      "CV of t is 1\n",
      "CV of t is 2\n",
      "CV of t is 3\n",
      "CV of t is 4\n",
      "x is greater\n"
     ]
    }
   ],
   "source": [
    "t = 0\n",
    "while t < 5:\n",
    "    print(f'CV of t is {t}')\n",
    "    t += 1\n",
    "print('x is greater')    "
   ]
  },
  {
   "cell_type": "code",
   "execution_count": 19,
   "id": "465754e2-e415-4a07-9b05-2983b76eed33",
   "metadata": {},
   "outputs": [
    {
     "name": "stdout",
     "output_type": "stream",
     "text": [
      "End of Script\n"
     ]
    }
   ],
   "source": [
    "x = [1, 2, 3]\n",
    "for i in x:\n",
    "    pass\n",
    "print('End of Script')"
   ]
  },
  {
   "cell_type": "code",
   "execution_count": 20,
   "id": "5b2262d0-0d0a-462c-9aa3-004ed24b5e4a",
   "metadata": {},
   "outputs": [],
   "source": [
    "s = 'adeel'"
   ]
  },
  {
   "cell_type": "code",
   "execution_count": 22,
   "id": "7ea79ed3-bde1-413f-bd53-86872d869f1b",
   "metadata": {},
   "outputs": [
    {
     "name": "stdout",
     "output_type": "stream",
     "text": [
      "d\n",
      "e\n",
      "e\n",
      "l\n"
     ]
    }
   ],
   "source": [
    "for c in s:\n",
    "    if c == 'a':\n",
    "        continue\n",
    "    print(c)\n"
   ]
  },
  {
   "cell_type": "code",
   "execution_count": 24,
   "id": "282fbf4e-5b1b-4a13-89cc-836e40380e0c",
   "metadata": {},
   "outputs": [
    {
     "name": "stdout",
     "output_type": "stream",
     "text": [
      "a\n",
      "d\n"
     ]
    }
   ],
   "source": [
    "for c in s:\n",
    "    if c == 'e':\n",
    "        break\n",
    "    print(c)\n"
   ]
  },
  {
   "cell_type": "code",
   "execution_count": null,
   "id": "87e03237-0be2-469e-9f62-15f64c541261",
   "metadata": {},
   "outputs": [],
   "source": [
    "\n",
    "\n"
   ]
  },
  {
   "cell_type": "code",
   "execution_count": null,
   "id": "577f9876-cc55-4029-818a-14aa389ad4bd",
   "metadata": {},
   "outputs": [],
   "source": []
  },
  {
   "cell_type": "code",
   "execution_count": 1,
   "id": "1f7ad1c1-c3e2-4010-ac2d-363092ce1e1d",
   "metadata": {},
   "outputs": [
    {
     "data": {
      "text/plain": [
       "'wassup'"
      ]
     },
     "execution_count": 1,
     "metadata": {},
     "output_type": "execute_result"
    }
   ],
   "source": [
    "'wassup'\n"
   ]
  },
  {
   "cell_type": "code",
   "execution_count": 2,
   "id": "0943ffdb-a9ce-4355-b8c7-9706144e7393",
   "metadata": {},
   "outputs": [
    {
     "data": {
      "text/plain": [
       "'------------18 November 2024-------------------'"
      ]
     },
     "execution_count": 2,
     "metadata": {},
     "output_type": "execute_result"
    }
   ],
   "source": [
    "'------------18 November 2024-------------------'"
   ]
  },
  {
   "cell_type": "code",
   "execution_count": 3,
   "id": "87d401de-34cf-4a30-b5bb-c15cb5440bb7",
   "metadata": {},
   "outputs": [],
   "source": [
    "ml = [1, 2, 3]"
   ]
  },
  {
   "cell_type": "code",
   "execution_count": 4,
   "id": "fa45a201-b7c4-4d09-87f3-88063c3c8288",
   "metadata": {},
   "outputs": [
    {
     "name": "stdout",
     "output_type": "stream",
     "text": [
      "0\n",
      "1\n",
      "2\n",
      "3\n",
      "4\n",
      "5\n",
      "6\n",
      "7\n",
      "8\n",
      "9\n"
     ]
    }
   ],
   "source": [
    "for num in range(10):\n",
    "    print(num)"
   ]
  },
  {
   "cell_type": "code",
   "execution_count": 5,
   "id": "a2e744b9-bab0-4680-9286-4265d37171fe",
   "metadata": {},
   "outputs": [
    {
     "name": "stdout",
     "output_type": "stream",
     "text": [
      "3\n",
      "4\n",
      "5\n",
      "6\n",
      "7\n",
      "8\n",
      "9\n"
     ]
    }
   ],
   "source": [
    "for num in range(3, 10):\n",
    "    print(num)"
   ]
  },
  {
   "cell_type": "code",
   "execution_count": 9,
   "id": "b50a1303-836c-4265-b6d7-a3c60f014051",
   "metadata": {},
   "outputs": [
    {
     "name": "stdout",
     "output_type": "stream",
     "text": [
      "0\n",
      "2\n",
      "4\n",
      "6\n",
      "8\n"
     ]
    }
   ],
   "source": [
    "for num in range(0, 10, 2):\n",
    "    print(num)"
   ]
  },
  {
   "cell_type": "code",
   "execution_count": 10,
   "id": "eef5f85a-7e39-4166-a142-a6df96e15a70",
   "metadata": {},
   "outputs": [
    {
     "data": {
      "text/plain": [
       "range(0, 10, 2)"
      ]
     },
     "execution_count": 10,
     "metadata": {},
     "output_type": "execute_result"
    }
   ],
   "source": [
    "range(0, 10, 2)\n"
   ]
  },
  {
   "cell_type": "code",
   "execution_count": 12,
   "id": "e5e21bef-de61-4195-8053-9017ebc73e6d",
   "metadata": {},
   "outputs": [
    {
     "data": {
      "text/plain": [
       "[0, 2, 4, 6, 8, 10]"
      ]
     },
     "execution_count": 12,
     "metadata": {},
     "output_type": "execute_result"
    }
   ],
   "source": [
    "list(range(0, 11, 2))"
   ]
  },
  {
   "cell_type": "code",
   "execution_count": 20,
   "id": "6351cb2e-334c-49f3-9bed-172864ca8304",
   "metadata": {},
   "outputs": [
    {
     "name": "stdout",
     "output_type": "stream",
     "text": [
      "At index 0 the letter is a\n",
      "At index 1 the letter is b\n",
      "At index 2 the letter is c\n",
      "At index 3 the letter is d\n",
      "At index 4 the letter is e\n"
     ]
    }
   ],
   "source": [
    "index_count = 0\n",
    "\n",
    "for letter in 'abcde' :\n",
    "    print('At index {} the letter is {}'.format(index_count, letter))\n",
    "    index_count += 1"
   ]
  },
  {
   "cell_type": "code",
   "execution_count": 22,
   "id": "708e16c0-08b5-40d4-9ce4-3ecd45096276",
   "metadata": {},
   "outputs": [
    {
     "name": "stdout",
     "output_type": "stream",
     "text": [
      "a\n",
      "b\n",
      "c\n",
      "d\n",
      "e\n"
     ]
    }
   ],
   "source": [
    "index_count = 0\n",
    "word = 'abcde'\n",
    "\n",
    "for letter in word :\n",
    "    print(word[index_count])\n",
    "    index_count += 1"
   ]
  },
  {
   "cell_type": "code",
   "execution_count": 24,
   "id": "d510ef52-52ca-4ded-b143-85bd9c7487d1",
   "metadata": {},
   "outputs": [
    {
     "name": "stdout",
     "output_type": "stream",
     "text": [
      "(0, 'a')\n",
      "(1, 'b')\n",
      "(2, 'c')\n",
      "(3, 'd')\n",
      "(4, 'e')\n"
     ]
    }
   ],
   "source": [
    "\n",
    "word = 'abcde'\n",
    "\n",
    "for item in enumerate(word) :\n",
    "    print(item)\n",
    "    "
   ]
  },
  {
   "cell_type": "code",
   "execution_count": 25,
   "id": "df6310ec-a397-4905-9808-f17f922c83e3",
   "metadata": {},
   "outputs": [],
   "source": [
    "l1 = [1, 2, 3]\n",
    "l2 = ['a', 'b', 'c']"
   ]
  },
  {
   "cell_type": "code",
   "execution_count": 26,
   "id": "edac683e-6299-4893-b157-e7d378549ecd",
   "metadata": {},
   "outputs": [
    {
     "data": {
      "text/plain": [
       "<zip at 0x1080d51c0>"
      ]
     },
     "execution_count": 26,
     "metadata": {},
     "output_type": "execute_result"
    }
   ],
   "source": [
    "zip(l1, l2)"
   ]
  },
  {
   "cell_type": "code",
   "execution_count": 27,
   "id": "d2e34906-2ca6-4b22-a38f-4c960e47ad36",
   "metadata": {},
   "outputs": [
    {
     "name": "stdout",
     "output_type": "stream",
     "text": [
      "(1, 'a')\n",
      "(2, 'b')\n",
      "(3, 'c')\n"
     ]
    }
   ],
   "source": [
    "for item in zip(l1, l2) :\n",
    "    print(item)"
   ]
  },
  {
   "cell_type": "code",
   "execution_count": 29,
   "id": "0f46c8ab-8b5b-4972-ae23-ec065b751ad3",
   "metadata": {},
   "outputs": [
    {
     "data": {
      "text/plain": [
       "True"
      ]
     },
     "execution_count": 29,
     "metadata": {},
     "output_type": "execute_result"
    }
   ],
   "source": [
    "'z' in ['a', 'b', 'z']"
   ]
  },
  {
   "cell_type": "code",
   "execution_count": 30,
   "id": "37be3233-bf56-4487-a28d-e2240d308550",
   "metadata": {},
   "outputs": [
    {
     "data": {
      "text/plain": [
       "True"
      ]
     },
     "execution_count": 30,
     "metadata": {},
     "output_type": "execute_result"
    }
   ],
   "source": [
    "2 in [1, 2, 3, 4]"
   ]
  },
  {
   "cell_type": "code",
   "execution_count": 33,
   "id": "32c16104-42a7-4d5f-9dab-5f8b26b682db",
   "metadata": {},
   "outputs": [
    {
     "data": {
      "text/plain": [
       "'-----above is used to find something in list etc-------'"
      ]
     },
     "execution_count": 33,
     "metadata": {},
     "output_type": "execute_result"
    }
   ],
   "source": [
    "'-----above is used to find something in list etc-------'"
   ]
  },
  {
   "cell_type": "code",
   "execution_count": 36,
   "id": "ac9733fc-084f-4850-8628-d220386ef86d",
   "metadata": {},
   "outputs": [],
   "source": [
    "l = [1, 2, 34, 5, 6, 5, 323,2, 11]"
   ]
  },
  {
   "cell_type": "code",
   "execution_count": 37,
   "id": "39eac9c5-018e-406c-a4ca-0cfe11e8bdaf",
   "metadata": {},
   "outputs": [
    {
     "data": {
      "text/plain": [
       "1"
      ]
     },
     "execution_count": 37,
     "metadata": {},
     "output_type": "execute_result"
    }
   ],
   "source": [
    "min(l)"
   ]
  },
  {
   "cell_type": "code",
   "execution_count": 38,
   "id": "171879ad-e719-4601-9296-b1f7196bea3b",
   "metadata": {},
   "outputs": [
    {
     "data": {
      "text/plain": [
       "323"
      ]
     },
     "execution_count": 38,
     "metadata": {},
     "output_type": "execute_result"
    }
   ],
   "source": [
    "max(l)"
   ]
  },
  {
   "cell_type": "code",
   "execution_count": 39,
   "id": "8a9a5b49-1500-486b-b883-ba757e5692fd",
   "metadata": {},
   "outputs": [],
   "source": [
    "from random import shuffle"
   ]
  },
  {
   "cell_type": "code",
   "execution_count": 40,
   "id": "7a961e8a-9e21-4eb0-a2f4-735d687d8545",
   "metadata": {},
   "outputs": [],
   "source": [
    "nl = [1, 2, 3, 4, 5, 6, 7, 8, 9, 10]"
   ]
  },
  {
   "cell_type": "code",
   "execution_count": 51,
   "id": "5f3c6e99-321c-4fcd-a3ce-37c224bc9a0e",
   "metadata": {},
   "outputs": [],
   "source": [
    "rl = shuffle(nl)\n"
   ]
  },
  {
   "cell_type": "code",
   "execution_count": 52,
   "id": "2542fe3f-19ac-41eb-8fef-62dfede61d86",
   "metadata": {},
   "outputs": [],
   "source": [
    "rl"
   ]
  },
  {
   "cell_type": "code",
   "execution_count": 53,
   "id": "beb75433-2287-4204-865f-2386b62f6e42",
   "metadata": {},
   "outputs": [
    {
     "data": {
      "text/plain": [
       "NoneType"
      ]
     },
     "execution_count": 53,
     "metadata": {},
     "output_type": "execute_result"
    }
   ],
   "source": [
    "type(rl)"
   ]
  },
  {
   "cell_type": "code",
   "execution_count": 54,
   "id": "ef47f6c7-1d24-4e42-967a-7ce22826c188",
   "metadata": {},
   "outputs": [
    {
     "data": {
      "text/plain": [
       "[5, 1, 6, 4, 3, 2, 8, 9, 10, 7]"
      ]
     },
     "execution_count": 54,
     "metadata": {},
     "output_type": "execute_result"
    }
   ],
   "source": [
    "nl\n"
   ]
  },
  {
   "cell_type": "code",
   "execution_count": 50,
   "id": "60f82b9d-34fc-4e1b-b1a7-4f6a6c1a881c",
   "metadata": {},
   "outputs": [
    {
     "data": {
      "text/plain": [
       "[8, 9, 5, 7, 4, 1, 3, 10, 2, 6]"
      ]
     },
     "execution_count": 50,
     "metadata": {},
     "output_type": "execute_result"
    }
   ],
   "source": [
    "nl"
   ]
  },
  {
   "cell_type": "code",
   "execution_count": 1,
   "id": "ad6645ea-b3ba-4138-b8dc-0cc73bfc61a4",
   "metadata": {},
   "outputs": [
    {
     "data": {
      "text/plain": [
       "'wassup'"
      ]
     },
     "execution_count": 1,
     "metadata": {},
     "output_type": "execute_result"
    }
   ],
   "source": [
    " 'wassup'"
   ]
  },
  {
   "cell_type": "code",
   "execution_count": 2,
   "id": "5fd8982a-9a7a-46b7-bc41-fa6b2c69985f",
   "metadata": {},
   "outputs": [
    {
     "data": {
      "text/plain": [
       "'------------------19 November 2024------------'"
      ]
     },
     "execution_count": 2,
     "metadata": {},
     "output_type": "execute_result"
    }
   ],
   "source": [
    "'------------------19 November 2024------------'"
   ]
  },
  {
   "cell_type": "code",
   "execution_count": 3,
   "id": "24bc8547-1077-4f70-a909-7afdac768b31",
   "metadata": {},
   "outputs": [],
   "source": [
    "s = 'hello, world!'\n"
   ]
  },
  {
   "cell_type": "code",
   "execution_count": 4,
   "id": "d7aee260-0078-48fe-baaa-ccef1a440d00",
   "metadata": {},
   "outputs": [
    {
     "data": {
      "text/plain": [
       "'hello, world!'"
      ]
     },
     "execution_count": 4,
     "metadata": {},
     "output_type": "execute_result"
    }
   ],
   "source": [
    "s"
   ]
  },
  {
   "cell_type": "code",
   "execution_count": 7,
   "id": "18d2df60-0013-4601-ac2e-6a7d4897da7b",
   "metadata": {},
   "outputs": [],
   "source": [
    "r = s.replace('hello', 'ello')"
   ]
  },
  {
   "cell_type": "code",
   "execution_count": 8,
   "id": "457ce085-6c6c-409b-a21d-77850cd74b25",
   "metadata": {},
   "outputs": [
    {
     "data": {
      "text/plain": [
       "'hello, world!'"
      ]
     },
     "execution_count": 8,
     "metadata": {},
     "output_type": "execute_result"
    }
   ],
   "source": [
    "s"
   ]
  },
  {
   "cell_type": "code",
   "execution_count": 9,
   "id": "6e8c0a1b-a5c5-4cf5-a3b2-6d5b9a3bae78",
   "metadata": {},
   "outputs": [
    {
     "data": {
      "text/plain": [
       "'ello, world!'"
      ]
     },
     "execution_count": 9,
     "metadata": {},
     "output_type": "execute_result"
    }
   ],
   "source": [
    "r"
   ]
  },
  {
   "cell_type": "code",
   "execution_count": 12,
   "id": "815af706-3c9d-4347-8d7b-864f2ff1c1ed",
   "metadata": {},
   "outputs": [],
   "source": [
    "ml = [x for x in 'hello']"
   ]
  },
  {
   "cell_type": "code",
   "execution_count": 13,
   "id": "738d2861-80be-4cc4-a05c-0b21d9378f31",
   "metadata": {},
   "outputs": [
    {
     "data": {
      "text/plain": [
       "['h', 'e', 'l', 'l', 'o']"
      ]
     },
     "execution_count": 13,
     "metadata": {},
     "output_type": "execute_result"
    }
   ],
   "source": [
    "ml"
   ]
  },
  {
   "cell_type": "code",
   "execution_count": 15,
   "id": "dcda1b31-a7f1-4ba0-8cb3-b3dade5d676b",
   "metadata": {},
   "outputs": [],
   "source": [
    "nl = [num for num in range(0,11)]"
   ]
  },
  {
   "cell_type": "code",
   "execution_count": 16,
   "id": "b9da7d2d-7fab-4982-919e-8a296710fe6f",
   "metadata": {},
   "outputs": [
    {
     "data": {
      "text/plain": [
       "[0, 1, 2, 3, 4, 5, 6, 7, 8, 9, 10]"
      ]
     },
     "execution_count": 16,
     "metadata": {},
     "output_type": "execute_result"
    }
   ],
   "source": [
    "nl"
   ]
  },
  {
   "cell_type": "code",
   "execution_count": 18,
   "id": "40cb250d-2099-4b33-87da-84e4713e8725",
   "metadata": {},
   "outputs": [],
   "source": [
    "nl = [num for num in range(0,11) if num%2==0]"
   ]
  },
  {
   "cell_type": "code",
   "execution_count": 19,
   "id": "71cb5441-c548-4a7d-a1cb-07e065fdbe31",
   "metadata": {},
   "outputs": [
    {
     "data": {
      "text/plain": [
       "[0, 2, 4, 6, 8, 10]"
      ]
     },
     "execution_count": 19,
     "metadata": {},
     "output_type": "execute_result"
    }
   ],
   "source": [
    "nl"
   ]
  },
  {
   "cell_type": "code",
   "execution_count": 21,
   "id": "d416269a-78f4-41f0-a52b-780937c56972",
   "metadata": {},
   "outputs": [],
   "source": [
    "nl = [num**2  for num in range(0,11) if num%2!=1]"
   ]
  },
  {
   "cell_type": "code",
   "execution_count": 22,
   "id": "e12f242a-a33a-47c4-8931-67f284687f87",
   "metadata": {},
   "outputs": [
    {
     "data": {
      "text/plain": [
       "[0, 4, 16, 36, 64, 100]"
      ]
     },
     "execution_count": 22,
     "metadata": {},
     "output_type": "execute_result"
    }
   ],
   "source": [
    "nl"
   ]
  },
  {
   "cell_type": "code",
   "execution_count": 30,
   "id": "b3414a59-06ff-4fa5-8d8f-869a284e4265",
   "metadata": {},
   "outputs": [],
   "source": [
    "celsius = [31, 40, 37.8]\n",
    "\n",
    "fahrenheit = [(9/5)*temp +32 for temp in celsius]"
   ]
  },
  {
   "cell_type": "code",
   "execution_count": 31,
   "id": "bd5cff41-ff5e-4afe-9ae0-fdec048a4266",
   "metadata": {},
   "outputs": [
    {
     "data": {
      "text/plain": [
       "[87.80000000000001, 104.0, 100.03999999999999]"
      ]
     },
     "execution_count": 31,
     "metadata": {},
     "output_type": "execute_result"
    }
   ],
   "source": [
    "fahrenheit"
   ]
  },
  {
   "cell_type": "code",
   "execution_count": 2,
   "id": "70e1108d-8994-4bc8-8232-6559f2ce0ed4",
   "metadata": {},
   "outputs": [
    {
     "name": "stdout",
     "output_type": "stream",
     "text": [
      "API is working\n",
      "Weather report: New York\n",
      "\n",
      "                Overcast\n",
      "  \u001b[38;5;240;1m     .--.    \u001b[0m \u001b[38;5;118m+14\u001b[0m(\u001b[38;5;118m15\u001b[0m) °C\u001b[0m     \n",
      "  \u001b[38;5;240;1m  .-(    ).  \u001b[0m \u001b[1m↙\u001b[0m \u001b[38;5;118m4\u001b[0m km/h\u001b[0m       \n",
      "  \u001b[38;5;240;1m (___.__)__) \u001b[0m 16 km\u001b[0m          \n",
      "                0.0 mm\u001b[0m         \n",
      "                                                       ┌─────────────┐                                                       \n",
      "┌──────────────────────────────┬───────────────────────┤  Wed 20 Nov ├───────────────────────┬──────────────────────────────┐\n",
      "│            Morning           │             Noon      └──────┬──────┘     Evening           │             Night            │\n",
      "├──────────────────────────────┼──────────────────────────────┼──────────────────────────────┼──────────────────────────────┤\n",
      "│               Cloudy         │               Cloudy         │               Overcast       │               Overcast       │\n",
      "│ \u001b[38;5;250m     .--.    \u001b[0m \u001b[38;5;082m+11\u001b[0m(\u001b[38;5;082m10\u001b[0m) °C\u001b[0m     │ \u001b[38;5;250m     .--.    \u001b[0m \u001b[38;5;082m12\u001b[0m °C\u001b[0m          │ \u001b[38;5;240;1m     .--.    \u001b[0m \u001b[38;5;118m+13\u001b[0m(\u001b[38;5;082m12\u001b[0m) °C\u001b[0m     │ \u001b[38;5;240;1m     .--.    \u001b[0m \u001b[38;5;082m+12\u001b[0m(\u001b[38;5;082m10\u001b[0m) °C\u001b[0m     │\n",
      "│ \u001b[38;5;250m  .-(    ).  \u001b[0m \u001b[1m↘\u001b[0m \u001b[38;5;082m2\u001b[0m-\u001b[38;5;082m3\u001b[0m km/h\u001b[0m     │ \u001b[38;5;250m  .-(    ).  \u001b[0m \u001b[1m↙\u001b[0m \u001b[38;5;118m5\u001b[0m-\u001b[38;5;154m7\u001b[0m km/h\u001b[0m     │ \u001b[38;5;240;1m  .-(    ).  \u001b[0m \u001b[1m←\u001b[0m \u001b[38;5;190m11\u001b[0m-\u001b[38;5;226m15\u001b[0m km/h\u001b[0m   │ \u001b[38;5;240;1m  .-(    ).  \u001b[0m \u001b[1m←\u001b[0m \u001b[38;5;226m15\u001b[0m-\u001b[38;5;214m23\u001b[0m km/h\u001b[0m   │\n",
      "│ \u001b[38;5;250m (___.__)__) \u001b[0m 10 km\u001b[0m          │ \u001b[38;5;250m (___.__)__) \u001b[0m 10 km\u001b[0m          │ \u001b[38;5;240;1m (___.__)__) \u001b[0m 10 km\u001b[0m          │ \u001b[38;5;240;1m (___.__)__) \u001b[0m 10 km\u001b[0m          │\n",
      "│               0.0 mm | 0%\u001b[0m    │               0.0 mm | 0%\u001b[0m    │               0.0 mm | 0%\u001b[0m    │               0.0 mm | 0%\u001b[0m    │\n",
      "└──────────────────────────────┴──────────────────────────────┴──────────────────────────────┴──────────────────────────────┘\n",
      "                                                       ┌─────────────┐                                                       \n",
      "┌──────────────────────────────┬───────────────────────┤  Thu 21 Nov ├───────────────────────┬──────────────────────────────┐\n",
      "│            Morning           │             Noon      └──────┬──────┘     Evening           │             Night            │\n",
      "├──────────────────────────────┼──────────────────────────────┼──────────────────────────────┼──────────────────────────────┤\n",
      "│ \u001b[38;5;240;1m     .-.     \u001b[0m Moderate rain  │               Overcast       │               Cloudy         │               Overcast       │\n",
      "│ \u001b[38;5;240;1m    (   ).   \u001b[0m \u001b[38;5;082m+10\u001b[0m(\u001b[38;5;047m7\u001b[0m) °C\u001b[0m      │ \u001b[38;5;240;1m     .--.    \u001b[0m \u001b[38;5;082m+10\u001b[0m(\u001b[38;5;047m6\u001b[0m) °C\u001b[0m      │ \u001b[38;5;250m     .--.    \u001b[0m \u001b[38;5;046m+9\u001b[0m(\u001b[38;5;047m6\u001b[0m) °C\u001b[0m       │ \u001b[38;5;240;1m     .--.    \u001b[0m \u001b[38;5;047m+7\u001b[0m(\u001b[38;5;049m3\u001b[0m) °C\u001b[0m       │\n",
      "│ \u001b[38;5;240;1m   (___(__)  \u001b[0m \u001b[1m↙\u001b[0m \u001b[38;5;202m31\u001b[0m-\u001b[38;5;196m41\u001b[0m km/h\u001b[0m   │ \u001b[38;5;240;1m  .-(    ).  \u001b[0m \u001b[1m↙\u001b[0m \u001b[38;5;202m28\u001b[0m-\u001b[38;5;196m39\u001b[0m km/h\u001b[0m   │ \u001b[38;5;250m  .-(    ).  \u001b[0m \u001b[1m↗\u001b[0m \u001b[38;5;220m19\u001b[0m-\u001b[38;5;208m24\u001b[0m km/h\u001b[0m   │ \u001b[38;5;240;1m  .-(    ).  \u001b[0m \u001b[1m↗\u001b[0m \u001b[38;5;196m35\u001b[0m-\u001b[38;5;196m41\u001b[0m km/h\u001b[0m   │\n",
      "│ \u001b[38;5;21;1m  ‚‘‚‘‚‘‚‘   \u001b[0m 2 km\u001b[0m           │ \u001b[38;5;240;1m (___.__)__) \u001b[0m 10 km\u001b[0m          │ \u001b[38;5;250m (___.__)__) \u001b[0m 9 km\u001b[0m           │ \u001b[38;5;240;1m (___.__)__) \u001b[0m 2 km\u001b[0m           │\n",
      "│ \u001b[38;5;21;1m  ‚’‚’‚’‚’   \u001b[0m 1.9 mm | 100%\u001b[0m  │               0.0 mm | 0%\u001b[0m    │               0.0 mm | 0%\u001b[0m    │               0.0 mm | 0%\u001b[0m    │\n",
      "└──────────────────────────────┴──────────────────────────────┴──────────────────────────────┴──────────────────────────────┘\n",
      "                                                       ┌─────────────┐                                                       \n",
      "┌──────────────────────────────┬───────────────────────┤  Fri 22 Nov ├───────────────────────┬──────────────────────────────┐\n",
      "│            Morning           │             Noon      └──────┬──────┘     Evening           │             Night            │\n",
      "├──────────────────────────────┼──────────────────────────────┼──────────────────────────────┼──────────────────────────────┤\n",
      "│               Cloudy         │ \u001b[38;5;226m    \\   /    \u001b[0m Sunny          │ \u001b[38;5;226m   \\  /\u001b[0m       Partly Cloudy  │ \u001b[38;5;226m   \\  /\u001b[0m       Partly Cloudy  │\n",
      "│ \u001b[38;5;250m     .--.    \u001b[0m \u001b[38;5;048m+4\u001b[0m(\u001b[38;5;050m0\u001b[0m) °C\u001b[0m       │ \u001b[38;5;226m     .-.     \u001b[0m \u001b[38;5;047m+7\u001b[0m(\u001b[38;5;049m3\u001b[0m) °C\u001b[0m       │ \u001b[38;5;226m _ /\"\"\u001b[38;5;250m.-.    \u001b[0m \u001b[38;5;047m+6\u001b[0m(\u001b[38;5;048m4\u001b[0m) °C\u001b[0m       │ \u001b[38;5;226m _ /\"\"\u001b[38;5;250m.-.    \u001b[0m \u001b[38;5;048m+5\u001b[0m(\u001b[38;5;049m3\u001b[0m) °C\u001b[0m       │\n",
      "│ \u001b[38;5;250m  .-(    ).  \u001b[0m \u001b[1m↑\u001b[0m \u001b[38;5;208m27\u001b[0m-\u001b[38;5;196m34\u001b[0m km/h\u001b[0m   │ \u001b[38;5;226m  ― (   ) ―  \u001b[0m \u001b[1m↑\u001b[0m \u001b[38;5;208m26\u001b[0m-\u001b[38;5;196m32\u001b[0m km/h\u001b[0m   │ \u001b[38;5;226m   \\_\u001b[38;5;250m(   ).  \u001b[0m \u001b[1m↑\u001b[0m \u001b[38;5;226m15\u001b[0m-\u001b[38;5;214m20\u001b[0m km/h\u001b[0m   │ \u001b[38;5;226m   \\_\u001b[38;5;250m(   ).  \u001b[0m \u001b[1m↗\u001b[0m \u001b[38;5;118m4\u001b[0m-\u001b[38;5;118m5\u001b[0m km/h\u001b[0m     │\n",
      "│ \u001b[38;5;250m (___.__)__) \u001b[0m 7 km\u001b[0m           │ \u001b[38;5;226m     `-’     \u001b[0m 2 km\u001b[0m           │ \u001b[38;5;226m   /\u001b[38;5;250m(___(__) \u001b[0m 9 km\u001b[0m           │ \u001b[38;5;226m   /\u001b[38;5;250m(___(__) \u001b[0m 2 km\u001b[0m           │\n",
      "│               0.0 mm | 0%\u001b[0m    │ \u001b[38;5;226m    /   \\    \u001b[0m 0.0 mm | 0%\u001b[0m    │               0.0 mm | 0%\u001b[0m    │               0.0 mm | 0%\u001b[0m    │\n",
      "└──────────────────────────────┴──────────────────────────────┴──────────────────────────────┴──────────────────────────────┘\n",
      "Location: NYC, New York, United States of America [40.7305991,-73.9865811]\n",
      "\n",
      "Follow \u001b[46m\u001b[30m@igor_chubin\u001b[0m for wttr.in updates\n",
      "\n"
     ]
    }
   ],
   "source": [
    "import requests\n",
    "class API():\n",
    "    def api_check(self):\n",
    "        url = 'https://jsonplaceholder.typicode.com/posts'\n",
    "        response = requests.get(url)\n",
    "        if response.status_code == 200:\n",
    "            print('API is working')\n",
    "        else:\n",
    "            print('API is not working')\n",
    "    \n",
    "    def api_weather(self, city):\n",
    "        url = f'https://wttr.in/{city}'\n",
    "        response = requests.get(url)\n",
    "        print(response.text)\n",
    "api_a = API()\n",
    "api_a.api_check()\n",
    "api_a.api_weather('New York')"
   ]
  },
  {
   "cell_type": "code",
   "execution_count": 3,
   "id": "10c349ce-3b35-4da7-8abf-d1a20a21f718",
   "metadata": {},
   "outputs": [
    {
     "name": "stdout",
     "output_type": "stream",
     "text": [
      "API is working\n",
      "Weather report: Islamabad\n",
      "\n",
      "  \u001b[38;5;226m    \\   /    \u001b[0m Clear\n",
      "  \u001b[38;5;226m     .-.     \u001b[0m \u001b[38;5;118m14\u001b[0m °C\u001b[0m          \n",
      "  \u001b[38;5;226m  ― (   ) ―  \u001b[0m \u001b[1m↙\u001b[0m \u001b[38;5;154m9\u001b[0m km/h\u001b[0m       \n",
      "  \u001b[38;5;226m     `-’     \u001b[0m 10 km\u001b[0m          \n",
      "  \u001b[38;5;226m    /   \\    \u001b[0m 0.0 mm\u001b[0m         \n",
      "                                                       ┌─────────────┐                                                       \n",
      "┌──────────────────────────────┬───────────────────────┤  Wed 20 Nov ├───────────────────────┬──────────────────────────────┐\n",
      "│            Morning           │             Noon      └──────┬──────┘     Evening           │             Night            │\n",
      "├──────────────────────────────┼──────────────────────────────┼──────────────────────────────┼──────────────────────────────┤\n",
      "│ \u001b[38;5;226m    \\   /    \u001b[0m Sunny          │ \u001b[38;5;226m    \\   /    \u001b[0m Sunny          │ \u001b[38;5;226m    \\   /    \u001b[0m Clear          │ \u001b[38;5;226m    \\   /    \u001b[0m Clear          │\n",
      "│ \u001b[38;5;226m     .-.     \u001b[0m \u001b[38;5;154m18\u001b[0m °C\u001b[0m          │ \u001b[38;5;226m     .-.     \u001b[0m \u001b[38;5;226m+23\u001b[0m(\u001b[38;5;226m22\u001b[0m) °C\u001b[0m     │ \u001b[38;5;226m     .-.     \u001b[0m \u001b[38;5;154m16\u001b[0m °C\u001b[0m          │ \u001b[38;5;226m     .-.     \u001b[0m \u001b[38;5;118m15\u001b[0m °C\u001b[0m          │\n",
      "│ \u001b[38;5;226m  ― (   ) ―  \u001b[0m \u001b[1m↘\u001b[0m \u001b[38;5;082m3\u001b[0m km/h\u001b[0m       │ \u001b[38;5;226m  ― (   ) ―  \u001b[0m \u001b[1m→\u001b[0m \u001b[38;5;154m9\u001b[0m-\u001b[38;5;190m11\u001b[0m km/h\u001b[0m    │ \u001b[38;5;226m  ― (   ) ―  \u001b[0m \u001b[1m↘\u001b[0m \u001b[38;5;118m4\u001b[0m-\u001b[38;5;154m9\u001b[0m km/h\u001b[0m     │ \u001b[38;5;226m  ― (   ) ―  \u001b[0m \u001b[1m↙\u001b[0m \u001b[38;5;154m7\u001b[0m-\u001b[38;5;226m15\u001b[0m km/h\u001b[0m    │\n",
      "│ \u001b[38;5;226m     `-’     \u001b[0m 10 km\u001b[0m          │ \u001b[38;5;226m     `-’     \u001b[0m 10 km\u001b[0m          │ \u001b[38;5;226m     `-’     \u001b[0m 10 km\u001b[0m          │ \u001b[38;5;226m     `-’     \u001b[0m 10 km\u001b[0m          │\n",
      "│ \u001b[38;5;226m    /   \\    \u001b[0m 0.0 mm | 0%\u001b[0m    │ \u001b[38;5;226m    /   \\    \u001b[0m 0.0 mm | 0%\u001b[0m    │ \u001b[38;5;226m    /   \\    \u001b[0m 0.0 mm | 0%\u001b[0m    │ \u001b[38;5;226m    /   \\    \u001b[0m 0.0 mm | 0%\u001b[0m    │\n",
      "└──────────────────────────────┴──────────────────────────────┴──────────────────────────────┴──────────────────────────────┘\n",
      "                                                       ┌─────────────┐                                                       \n",
      "┌──────────────────────────────┬───────────────────────┤  Thu 21 Nov ├───────────────────────┬──────────────────────────────┐\n",
      "│            Morning           │             Noon      └──────┬──────┘     Evening           │             Night            │\n",
      "├──────────────────────────────┼──────────────────────────────┼──────────────────────────────┼──────────────────────────────┤\n",
      "│ \u001b[38;5;226m    \\   /    \u001b[0m Sunny          │ \u001b[38;5;226m    \\   /    \u001b[0m Sunny          │ \u001b[38;5;226m    \\   /    \u001b[0m Clear          │ \u001b[38;5;226m    \\   /    \u001b[0m Clear          │\n",
      "│ \u001b[38;5;226m     .-.     \u001b[0m \u001b[38;5;190m19\u001b[0m °C\u001b[0m          │ \u001b[38;5;226m     .-.     \u001b[0m \u001b[38;5;226m23\u001b[0m °C\u001b[0m          │ \u001b[38;5;226m     .-.     \u001b[0m \u001b[38;5;154m16\u001b[0m °C\u001b[0m          │ \u001b[38;5;226m     .-.     \u001b[0m \u001b[38;5;118m15\u001b[0m °C\u001b[0m          │\n",
      "│ \u001b[38;5;226m  ― (   ) ―  \u001b[0m \u001b[1m↘\u001b[0m \u001b[38;5;118m4\u001b[0m km/h\u001b[0m       │ \u001b[38;5;226m  ― (   ) ―  \u001b[0m \u001b[1m→\u001b[0m \u001b[38;5;154m9\u001b[0m-\u001b[38;5;190m10\u001b[0m km/h\u001b[0m    │ \u001b[38;5;226m  ― (   ) ―  \u001b[0m \u001b[1m↘\u001b[0m \u001b[38;5;118m5\u001b[0m-\u001b[38;5;190m11\u001b[0m km/h\u001b[0m    │ \u001b[38;5;226m  ― (   ) ―  \u001b[0m \u001b[1m↙\u001b[0m \u001b[38;5;154m7\u001b[0m-\u001b[38;5;226m14\u001b[0m km/h\u001b[0m    │\n",
      "│ \u001b[38;5;226m     `-’     \u001b[0m 10 km\u001b[0m          │ \u001b[38;5;226m     `-’     \u001b[0m 10 km\u001b[0m          │ \u001b[38;5;226m     `-’     \u001b[0m 10 km\u001b[0m          │ \u001b[38;5;226m     `-’     \u001b[0m 10 km\u001b[0m          │\n",
      "│ \u001b[38;5;226m    /   \\    \u001b[0m 0.0 mm | 0%\u001b[0m    │ \u001b[38;5;226m    /   \\    \u001b[0m 0.0 mm | 0%\u001b[0m    │ \u001b[38;5;226m    /   \\    \u001b[0m 0.0 mm | 0%\u001b[0m    │ \u001b[38;5;226m    /   \\    \u001b[0m 0.0 mm | 0%\u001b[0m    │\n",
      "└──────────────────────────────┴──────────────────────────────┴──────────────────────────────┴──────────────────────────────┘\n",
      "                                                       ┌─────────────┐                                                       \n",
      "┌──────────────────────────────┬───────────────────────┤  Fri 22 Nov ├───────────────────────┬──────────────────────────────┐\n",
      "│            Morning           │             Noon      └──────┬──────┘     Evening           │             Night            │\n",
      "├──────────────────────────────┼──────────────────────────────┼──────────────────────────────┼──────────────────────────────┤\n",
      "│ \u001b[38;5;226m    \\   /    \u001b[0m Sunny          │ \u001b[38;5;226m    \\   /    \u001b[0m Sunny          │ \u001b[38;5;226m    \\   /    \u001b[0m Clear          │ \u001b[38;5;226m    \\   /    \u001b[0m Clear          │\n",
      "│ \u001b[38;5;226m     .-.     \u001b[0m \u001b[38;5;190m19\u001b[0m °C\u001b[0m          │ \u001b[38;5;226m     .-.     \u001b[0m \u001b[38;5;226m23\u001b[0m °C\u001b[0m          │ \u001b[38;5;226m     .-.     \u001b[0m \u001b[38;5;154m17\u001b[0m °C\u001b[0m          │ \u001b[38;5;226m     .-.     \u001b[0m \u001b[38;5;154m16\u001b[0m °C\u001b[0m          │\n",
      "│ \u001b[38;5;226m  ― (   ) ―  \u001b[0m \u001b[1m↓\u001b[0m \u001b[38;5;082m2\u001b[0m-\u001b[38;5;082m3\u001b[0m km/h\u001b[0m     │ \u001b[38;5;226m  ― (   ) ―  \u001b[0m \u001b[1m↗\u001b[0m \u001b[38;5;154m7\u001b[0m-\u001b[38;5;154m8\u001b[0m km/h\u001b[0m     │ \u001b[38;5;226m  ― (   ) ―  \u001b[0m \u001b[1m↘\u001b[0m \u001b[38;5;118m4\u001b[0m-\u001b[38;5;154m9\u001b[0m km/h\u001b[0m     │ \u001b[38;5;226m  ― (   ) ―  \u001b[0m \u001b[1m↙\u001b[0m \u001b[38;5;154m9\u001b[0m-\u001b[38;5;214m20\u001b[0m km/h\u001b[0m    │\n",
      "│ \u001b[38;5;226m     `-’     \u001b[0m 10 km\u001b[0m          │ \u001b[38;5;226m     `-’     \u001b[0m 10 km\u001b[0m          │ \u001b[38;5;226m     `-’     \u001b[0m 10 km\u001b[0m          │ \u001b[38;5;226m     `-’     \u001b[0m 10 km\u001b[0m          │\n",
      "│ \u001b[38;5;226m    /   \\    \u001b[0m 0.0 mm | 0%\u001b[0m    │ \u001b[38;5;226m    /   \\    \u001b[0m 0.0 mm | 0%\u001b[0m    │ \u001b[38;5;226m    /   \\    \u001b[0m 0.0 mm | 0%\u001b[0m    │ \u001b[38;5;226m    /   \\    \u001b[0m 0.0 mm | 0%\u001b[0m    │\n",
      "└──────────────────────────────┴──────────────────────────────┴──────────────────────────────┴──────────────────────────────┘\n",
      "Location: Islamabad, ICT, 44000, ‏پاکستان‎ [33.6945756,73.0643744]\n",
      "\n",
      "Follow \u001b[46m\u001b[30m@igor_chubin\u001b[0m for wttr.in updates\n",
      "\n"
     ]
    }
   ],
   "source": [
    "import requests\n",
    "class API():\n",
    "    def api_check(self):\n",
    "        url = 'https://jsonplaceholder.typicode.com/posts'\n",
    "        response = requests.get(url)\n",
    "        if response.status_code == 200:\n",
    "            print('API is working')\n",
    "        else:\n",
    "            print('API is not working)\n",
    "    \n",
    "    def api_weather(self, city):\n",
    "        url = f'https://wttr.in/{city}'\n",
    "        response = requests.get(url)\n",
    "        print(response.text)\n",
    "api_a = API()\n",
    "api_a.api_check()\n",
    "api_a.api_weather('Islamabad')"
   ]
  },
  {
   "cell_type": "code",
   "execution_count": 5,
   "id": "00f3aff7-bd32-4d85-b052-8c80e59d2dc7",
   "metadata": {},
   "outputs": [
    {
     "data": {
      "text/plain": [
       "'ello'"
      ]
     },
     "execution_count": 5,
     "metadata": {},
     "output_type": "execute_result"
    }
   ],
   "source": [
    "'ello'"
   ]
  },
  {
   "cell_type": "code",
   "execution_count": 1,
   "id": "028e260b-a8cb-489f-8d76-fe100674ea84",
   "metadata": {},
   "outputs": [
    {
     "name": "stdout",
     "output_type": "stream",
     "text": [
      "API is working\n",
      "Weather report: Jampur\n",
      "\n",
      "  \u001b[38;5;226m    \\   /    \u001b[0m Sunny\n",
      "  \u001b[38;5;226m     .-.     \u001b[0m \u001b[38;5;220m+26\u001b[0m(\u001b[38;5;220m25\u001b[0m) °C\u001b[0m     \n",
      "  \u001b[38;5;226m  ― (   ) ―  \u001b[0m \u001b[1m→\u001b[0m \u001b[38;5;154m9\u001b[0m km/h\u001b[0m       \n",
      "  \u001b[38;5;226m     `-’     \u001b[0m 10 km\u001b[0m          \n",
      "  \u001b[38;5;226m    /   \\    \u001b[0m 0.0 mm\u001b[0m         \n",
      "                                                       ┌─────────────┐                                                       \n",
      "┌──────────────────────────────┬───────────────────────┤  Thu 21 Nov ├───────────────────────┬──────────────────────────────┐\n",
      "│            Morning           │             Noon      └──────┬──────┘     Evening           │             Night            │\n",
      "├──────────────────────────────┼──────────────────────────────┼──────────────────────────────┼──────────────────────────────┤\n",
      "│ \u001b[38;5;226m    \\   /    \u001b[0m Sunny          │ \u001b[38;5;226m    \\   /    \u001b[0m Sunny          │ \u001b[38;5;226m    \\   /    \u001b[0m Clear          │ \u001b[38;5;226m    \\   /    \u001b[0m Clear          │\n",
      "│ \u001b[38;5;226m     .-.     \u001b[0m \u001b[38;5;190m19\u001b[0m °C\u001b[0m          │ \u001b[38;5;226m     .-.     \u001b[0m \u001b[38;5;220m+25\u001b[0m(\u001b[38;5;226m24\u001b[0m) °C\u001b[0m     │ \u001b[38;5;226m     .-.     \u001b[0m \u001b[38;5;190m21\u001b[0m °C\u001b[0m          │ \u001b[38;5;226m     .-.     \u001b[0m \u001b[38;5;190m19\u001b[0m °C\u001b[0m          │\n",
      "│ \u001b[38;5;226m  ― (   ) ―  \u001b[0m \u001b[1m↙\u001b[0m \u001b[38;5;082m3\u001b[0m km/h\u001b[0m       │ \u001b[38;5;226m  ― (   ) ―  \u001b[0m \u001b[1m↗\u001b[0m \u001b[38;5;154m9\u001b[0m-\u001b[38;5;190m10\u001b[0m km/h\u001b[0m    │ \u001b[38;5;226m  ― (   ) ―  \u001b[0m \u001b[1m→\u001b[0m \u001b[38;5;118m4\u001b[0m-\u001b[38;5;154m8\u001b[0m km/h\u001b[0m     │ \u001b[38;5;226m  ― (   ) ―  \u001b[0m \u001b[1m↙\u001b[0m \u001b[38;5;118m6\u001b[0m-\u001b[38;5;190m12\u001b[0m km/h\u001b[0m    │\n",
      "│ \u001b[38;5;226m     `-’     \u001b[0m 10 km\u001b[0m          │ \u001b[38;5;226m     `-’     \u001b[0m 10 km\u001b[0m          │ \u001b[38;5;226m     `-’     \u001b[0m 10 km\u001b[0m          │ \u001b[38;5;226m     `-’     \u001b[0m 10 km\u001b[0m          │\n",
      "│ \u001b[38;5;226m    /   \\    \u001b[0m 0.0 mm | 0%\u001b[0m    │ \u001b[38;5;226m    /   \\    \u001b[0m 0.0 mm | 0%\u001b[0m    │ \u001b[38;5;226m    /   \\    \u001b[0m 0.0 mm | 0%\u001b[0m    │ \u001b[38;5;226m    /   \\    \u001b[0m 0.0 mm | 0%\u001b[0m    │\n",
      "└──────────────────────────────┴──────────────────────────────┴──────────────────────────────┴──────────────────────────────┘\n",
      "                                                       ┌─────────────┐                                                       \n",
      "┌──────────────────────────────┬───────────────────────┤  Fri 22 Nov ├───────────────────────┬──────────────────────────────┐\n",
      "│            Morning           │             Noon      └──────┬──────┘     Evening           │             Night            │\n",
      "├──────────────────────────────┼──────────────────────────────┼──────────────────────────────┼──────────────────────────────┤\n",
      "│               Overcast       │ \u001b[38;5;226m    \\   /    \u001b[0m Sunny          │ \u001b[38;5;226m    \\   /    \u001b[0m Clear          │ \u001b[38;5;226m    \\   /    \u001b[0m Clear          │\n",
      "│ \u001b[38;5;240;1m     .--.    \u001b[0m \u001b[38;5;190m19\u001b[0m °C\u001b[0m          │ \u001b[38;5;226m     .-.     \u001b[0m \u001b[38;5;220m+25\u001b[0m(\u001b[38;5;226m24\u001b[0m) °C\u001b[0m     │ \u001b[38;5;226m     .-.     \u001b[0m \u001b[38;5;190m21\u001b[0m °C\u001b[0m          │ \u001b[38;5;226m     .-.     \u001b[0m \u001b[38;5;190m19\u001b[0m °C\u001b[0m          │\n",
      "│ \u001b[38;5;240;1m  .-(    ).  \u001b[0m \u001b[1m↙\u001b[0m \u001b[38;5;118m6\u001b[0m-\u001b[38;5;154m8\u001b[0m km/h\u001b[0m     │ \u001b[38;5;226m  ― (   ) ―  \u001b[0m \u001b[1m↗\u001b[0m \u001b[38;5;118m4\u001b[0m km/h\u001b[0m       │ \u001b[38;5;226m  ― (   ) ―  \u001b[0m \u001b[1m↙\u001b[0m \u001b[38;5;082m2\u001b[0m-\u001b[38;5;118m5\u001b[0m km/h\u001b[0m     │ \u001b[38;5;226m  ― (   ) ―  \u001b[0m \u001b[1m↙\u001b[0m \u001b[38;5;190m11\u001b[0m-\u001b[38;5;214m23\u001b[0m km/h\u001b[0m   │\n",
      "│ \u001b[38;5;240;1m (___.__)__) \u001b[0m 10 km\u001b[0m          │ \u001b[38;5;226m     `-’     \u001b[0m 10 km\u001b[0m          │ \u001b[38;5;226m     `-’     \u001b[0m 10 km\u001b[0m          │ \u001b[38;5;226m     `-’     \u001b[0m 10 km\u001b[0m          │\n",
      "│               0.0 mm | 0%\u001b[0m    │ \u001b[38;5;226m    /   \\    \u001b[0m 0.0 mm | 0%\u001b[0m    │ \u001b[38;5;226m    /   \\    \u001b[0m 0.0 mm | 0%\u001b[0m    │ \u001b[38;5;226m    /   \\    \u001b[0m 0.0 mm | 0%\u001b[0m    │\n",
      "└──────────────────────────────┴──────────────────────────────┴──────────────────────────────┴──────────────────────────────┘\n",
      "                                                       ┌─────────────┐                                                       \n",
      "┌──────────────────────────────┬───────────────────────┤  Sat 23 Nov ├───────────────────────┬──────────────────────────────┐\n",
      "│            Morning           │             Noon      └──────┬──────┘     Evening           │             Night            │\n",
      "├──────────────────────────────┼──────────────────────────────┼──────────────────────────────┼──────────────────────────────┤\n",
      "│ \u001b[38;5;226m    \\   /    \u001b[0m Sunny          │ \u001b[38;5;226m    \\   /    \u001b[0m Sunny          │ \u001b[38;5;226m    \\   /    \u001b[0m Clear          │ \u001b[38;5;226m    \\   /    \u001b[0m Clear          │\n",
      "│ \u001b[38;5;226m     .-.     \u001b[0m \u001b[38;5;190m20\u001b[0m °C\u001b[0m          │ \u001b[38;5;226m     .-.     \u001b[0m \u001b[38;5;220m+26\u001b[0m(\u001b[38;5;220m25\u001b[0m) °C\u001b[0m     │ \u001b[38;5;226m     .-.     \u001b[0m \u001b[38;5;190m21\u001b[0m °C\u001b[0m          │ \u001b[38;5;226m     .-.     \u001b[0m \u001b[38;5;190m19\u001b[0m °C\u001b[0m          │\n",
      "│ \u001b[38;5;226m  ― (   ) ―  \u001b[0m \u001b[1m←\u001b[0m \u001b[38;5;118m4\u001b[0m-\u001b[38;5;118m5\u001b[0m km/h\u001b[0m     │ \u001b[38;5;226m  ― (   ) ―  \u001b[0m \u001b[1m↑\u001b[0m \u001b[38;5;082m2\u001b[0m km/h\u001b[0m       │ \u001b[38;5;226m  ― (   ) ―  \u001b[0m \u001b[1m↙\u001b[0m \u001b[38;5;118m5\u001b[0m-\u001b[38;5;190m10\u001b[0m km/h\u001b[0m    │ \u001b[38;5;226m  ― (   ) ―  \u001b[0m \u001b[1m↙\u001b[0m \u001b[38;5;190m10\u001b[0m-\u001b[38;5;214m21\u001b[0m km/h\u001b[0m   │\n",
      "│ \u001b[38;5;226m     `-’     \u001b[0m 10 km\u001b[0m          │ \u001b[38;5;226m     `-’     \u001b[0m 10 km\u001b[0m          │ \u001b[38;5;226m     `-’     \u001b[0m 10 km\u001b[0m          │ \u001b[38;5;226m     `-’     \u001b[0m 10 km\u001b[0m          │\n",
      "│ \u001b[38;5;226m    /   \\    \u001b[0m 0.0 mm | 0%\u001b[0m    │ \u001b[38;5;226m    /   \\    \u001b[0m 0.0 mm | 0%\u001b[0m    │ \u001b[38;5;226m    /   \\    \u001b[0m 0.0 mm | 0%\u001b[0m    │ \u001b[38;5;226m    /   \\    \u001b[0m 0.0 mm | 0%\u001b[0m    │\n",
      "└──────────────────────────────┴──────────────────────────────┴──────────────────────────────┴──────────────────────────────┘\n",
      "Location: Jampur, Siālkot District, پنجاب, پاکستان [32.3316194,74.6184078]\n",
      "\n",
      "Follow \u001b[46m\u001b[30m@igor_chubin\u001b[0m for wttr.in updates\n",
      "\n"
     ]
    }
   ],
   "source": [
    "import requests\n",
    "class API():\n",
    "    def api_check(self):\n",
    "        url = 'https://jsonplaceholder.typicode.com/posts'\n",
    "        response = requests.get(url)\n",
    "        if response.status_code == 200:\n",
    "            print('API is working')\n",
    "        else:\n",
    "            print('API is not working')\n",
    "    \n",
    "    def api_weather(self, city):\n",
    "        url = f'https://wttr.in/{city}'\n",
    "        response = requests.get(url)\n",
    "        print(response.text)\n",
    "api_a = API()\n",
    "api_a.api_check()\n",
    "api_a.api_weather('Jampur')"
   ]
  },
  {
   "cell_type": "code",
   "execution_count": 2,
   "id": "54641397-37e7-4b3e-a304-06e71a70352f",
   "metadata": {},
   "outputs": [
    {
     "name": "stdout",
     "output_type": "stream",
     "text": [
      "API is working\n",
      "Weather report: Dera Ghazi Khan\n",
      "\n",
      "  \u001b[38;5;226m    \\   /    \u001b[0m Sunny\n",
      "  \u001b[38;5;226m     .-.     \u001b[0m \u001b[38;5;214m+29\u001b[0m(\u001b[38;5;220m27\u001b[0m) °C\u001b[0m     \n",
      "  \u001b[38;5;226m  ― (   ) ―  \u001b[0m \u001b[1m↙\u001b[0m \u001b[38;5;118m4\u001b[0m km/h\u001b[0m       \n",
      "  \u001b[38;5;226m     `-’     \u001b[0m 10 km\u001b[0m          \n",
      "  \u001b[38;5;226m    /   \\    \u001b[0m 0.0 mm\u001b[0m         \n",
      "                                                       ┌─────────────┐                                                       \n",
      "┌──────────────────────────────┬───────────────────────┤  Thu 21 Nov ├───────────────────────┬──────────────────────────────┐\n",
      "│            Morning           │             Noon      └──────┬──────┘     Evening           │             Night            │\n",
      "├──────────────────────────────┼──────────────────────────────┼──────────────────────────────┼──────────────────────────────┤\n",
      "│ \u001b[38;5;226m    \\   /    \u001b[0m Sunny          │ \u001b[38;5;226m    \\   /    \u001b[0m Sunny          │ \u001b[38;5;226m    \\   /    \u001b[0m Clear          │ \u001b[38;5;226m    \\   /    \u001b[0m Clear          │\n",
      "│ \u001b[38;5;226m     .-.     \u001b[0m \u001b[38;5;226m23\u001b[0m °C\u001b[0m          │ \u001b[38;5;226m     .-.     \u001b[0m \u001b[38;5;220m+27\u001b[0m(\u001b[38;5;220m25\u001b[0m) °C\u001b[0m     │ \u001b[38;5;226m     .-.     \u001b[0m \u001b[38;5;226m23\u001b[0m °C\u001b[0m          │ \u001b[38;5;226m     .-.     \u001b[0m \u001b[38;5;226m22\u001b[0m °C\u001b[0m          │\n",
      "│ \u001b[38;5;226m  ― (   ) ―  \u001b[0m \u001b[1m↙\u001b[0m \u001b[38;5;154m8\u001b[0m-\u001b[38;5;190m10\u001b[0m km/h\u001b[0m    │ \u001b[38;5;226m  ― (   ) ―  \u001b[0m \u001b[1m↙\u001b[0m \u001b[38;5;118m4\u001b[0m-\u001b[38;5;118m5\u001b[0m km/h\u001b[0m     │ \u001b[38;5;226m  ― (   ) ―  \u001b[0m \u001b[1m↓\u001b[0m \u001b[38;5;082m2\u001b[0m-\u001b[38;5;118m5\u001b[0m km/h\u001b[0m     │ \u001b[38;5;226m  ― (   ) ―  \u001b[0m \u001b[1m↓\u001b[0m \u001b[38;5;118m4\u001b[0m-\u001b[38;5;154m8\u001b[0m km/h\u001b[0m     │\n",
      "│ \u001b[38;5;226m     `-’     \u001b[0m 10 km\u001b[0m          │ \u001b[38;5;226m     `-’     \u001b[0m 10 km\u001b[0m          │ \u001b[38;5;226m     `-’     \u001b[0m 10 km\u001b[0m          │ \u001b[38;5;226m     `-’     \u001b[0m 10 km\u001b[0m          │\n",
      "│ \u001b[38;5;226m    /   \\    \u001b[0m 0.0 mm | 0%\u001b[0m    │ \u001b[38;5;226m    /   \\    \u001b[0m 0.0 mm | 0%\u001b[0m    │ \u001b[38;5;226m    /   \\    \u001b[0m 0.0 mm | 0%\u001b[0m    │ \u001b[38;5;226m    /   \\    \u001b[0m 0.0 mm | 0%\u001b[0m    │\n",
      "└──────────────────────────────┴──────────────────────────────┴──────────────────────────────┴──────────────────────────────┘\n",
      "                                                       ┌─────────────┐                                                       \n",
      "┌──────────────────────────────┬───────────────────────┤  Fri 22 Nov ├───────────────────────┬──────────────────────────────┐\n",
      "│            Morning           │             Noon      └──────┬──────┘     Evening           │             Night            │\n",
      "├──────────────────────────────┼──────────────────────────────┼──────────────────────────────┼──────────────────────────────┤\n",
      "│ \u001b[38;5;226m    \\   /    \u001b[0m Sunny          │ \u001b[38;5;226m    \\   /    \u001b[0m Sunny          │ \u001b[38;5;226m    \\   /    \u001b[0m Clear          │ \u001b[38;5;226m    \\   /    \u001b[0m Clear          │\n",
      "│ \u001b[38;5;226m     .-.     \u001b[0m \u001b[38;5;226m23\u001b[0m °C\u001b[0m          │ \u001b[38;5;226m     .-.     \u001b[0m \u001b[38;5;214m+28\u001b[0m(\u001b[38;5;220m26\u001b[0m) °C\u001b[0m     │ \u001b[38;5;226m     .-.     \u001b[0m \u001b[38;5;226m+24\u001b[0m(\u001b[38;5;226m23\u001b[0m) °C\u001b[0m     │ \u001b[38;5;226m     .-.     \u001b[0m \u001b[38;5;226m+22\u001b[0m(\u001b[38;5;226m23\u001b[0m) °C\u001b[0m     │\n",
      "│ \u001b[38;5;226m  ― (   ) ―  \u001b[0m \u001b[1m↓\u001b[0m \u001b[38;5;154m9\u001b[0m-\u001b[38;5;190m11\u001b[0m km/h\u001b[0m    │ \u001b[38;5;226m  ― (   ) ―  \u001b[0m \u001b[1m↓\u001b[0m \u001b[38;5;082m3\u001b[0m km/h\u001b[0m       │ \u001b[38;5;226m  ― (   ) ―  \u001b[0m \u001b[1m↙\u001b[0m \u001b[38;5;118m6\u001b[0m-\u001b[38;5;226m14\u001b[0m km/h\u001b[0m    │ \u001b[38;5;226m  ― (   ) ―  \u001b[0m \u001b[1m↓\u001b[0m \u001b[38;5;154m9\u001b[0m-\u001b[38;5;214m20\u001b[0m km/h\u001b[0m    │\n",
      "│ \u001b[38;5;226m     `-’     \u001b[0m 10 km\u001b[0m          │ \u001b[38;5;226m     `-’     \u001b[0m 10 km\u001b[0m          │ \u001b[38;5;226m     `-’     \u001b[0m 10 km\u001b[0m          │ \u001b[38;5;226m     `-’     \u001b[0m 10 km\u001b[0m          │\n",
      "│ \u001b[38;5;226m    /   \\    \u001b[0m 0.0 mm | 0%\u001b[0m    │ \u001b[38;5;226m    /   \\    \u001b[0m 0.0 mm | 0%\u001b[0m    │ \u001b[38;5;226m    /   \\    \u001b[0m 0.0 mm | 0%\u001b[0m    │ \u001b[38;5;226m    /   \\    \u001b[0m 0.0 mm | 0%\u001b[0m    │\n",
      "└──────────────────────────────┴──────────────────────────────┴──────────────────────────────┴──────────────────────────────┘\n",
      "                                                       ┌─────────────┐                                                       \n",
      "┌──────────────────────────────┬───────────────────────┤  Sat 23 Nov ├───────────────────────┬──────────────────────────────┐\n",
      "│            Morning           │             Noon      └──────┬──────┘     Evening           │             Night            │\n",
      "├──────────────────────────────┼──────────────────────────────┼──────────────────────────────┼──────────────────────────────┤\n",
      "│ \u001b[38;5;226m    \\   /    \u001b[0m Sunny          │ \u001b[38;5;226m    \\   /    \u001b[0m Sunny          │ \u001b[38;5;226m    \\   /    \u001b[0m Clear          │ \u001b[38;5;226m    \\   /    \u001b[0m Clear          │\n",
      "│ \u001b[38;5;226m     .-.     \u001b[0m \u001b[38;5;226m23\u001b[0m °C\u001b[0m          │ \u001b[38;5;226m     .-.     \u001b[0m \u001b[38;5;214m+28\u001b[0m(\u001b[38;5;220m26\u001b[0m) °C\u001b[0m     │ \u001b[38;5;226m     .-.     \u001b[0m \u001b[38;5;226m+24\u001b[0m(\u001b[38;5;226m23\u001b[0m) °C\u001b[0m     │ \u001b[38;5;226m     .-.     \u001b[0m \u001b[38;5;190m21\u001b[0m °C\u001b[0m          │\n",
      "│ \u001b[38;5;226m  ― (   ) ―  \u001b[0m \u001b[1m↓\u001b[0m \u001b[38;5;226m14\u001b[0m-\u001b[38;5;220m18\u001b[0m km/h\u001b[0m   │ \u001b[38;5;226m  ― (   ) ―  \u001b[0m \u001b[1m↓\u001b[0m \u001b[38;5;226m13\u001b[0m-\u001b[38;5;226m15\u001b[0m km/h\u001b[0m   │ \u001b[38;5;226m  ― (   ) ―  \u001b[0m \u001b[1m↓\u001b[0m \u001b[38;5;190m11\u001b[0m-\u001b[38;5;214m23\u001b[0m km/h\u001b[0m   │ \u001b[38;5;226m  ― (   ) ―  \u001b[0m \u001b[1m↓\u001b[0m \u001b[38;5;190m10\u001b[0m-\u001b[38;5;214m22\u001b[0m km/h\u001b[0m   │\n",
      "│ \u001b[38;5;226m     `-’     \u001b[0m 10 km\u001b[0m          │ \u001b[38;5;226m     `-’     \u001b[0m 10 km\u001b[0m          │ \u001b[38;5;226m     `-’     \u001b[0m 10 km\u001b[0m          │ \u001b[38;5;226m     `-’     \u001b[0m 10 km\u001b[0m          │\n",
      "│ \u001b[38;5;226m    /   \\    \u001b[0m 0.0 mm | 0%\u001b[0m    │ \u001b[38;5;226m    /   \\    \u001b[0m 0.0 mm | 0%\u001b[0m    │ \u001b[38;5;226m    /   \\    \u001b[0m 0.0 mm | 0%\u001b[0m    │ \u001b[38;5;226m    /   \\    \u001b[0m 0.0 mm | 0%\u001b[0m    │\n",
      "└──────────────────────────────┴──────────────────────────────┴──────────────────────────────┴──────────────────────────────┘\n",
      "Location: ڈیرہ غازی خان, پنجاب, پاکستان [30.0321374,70.6401114]\n",
      "\n",
      "Follow \u001b[46m\u001b[30m@igor_chubin\u001b[0m for wttr.in updates\n",
      "\n"
     ]
    }
   ],
   "source": [
    "import requests\n",
    "class API():\n",
    "    def api_check(self):\n",
    "        url = 'https://jsonplaceholder.typicode.com/posts'\n",
    "        response = requests.get(url)\n",
    "        if response.status_code == 200:\n",
    "            print('API is working')\n",
    "        else:\n",
    "            print('API is not working')\n",
    "    \n",
    "    def api_weather(self, city):\n",
    "        url = f'https://wttr.in/{city}'\n",
    "        response = requests.get(url)\n",
    "        print(response.text)\n",
    "api_a = API()\n",
    "api_a.api_check()\n",
    "api_a.api_weather('Dera Ghazi Khan')"
   ]
  },
  {
   "cell_type": "code",
   "execution_count": 3,
   "id": "583ea8c0-98a9-48d8-ad24-8e2a2d001e6a",
   "metadata": {},
   "outputs": [
    {
     "name": "stdout",
     "output_type": "stream",
     "text": [
      "API is working\n",
      "Weather report: Multan\n",
      "\n",
      "                Haze\n",
      "  \u001b[38;5;251m _ - _ - _ - \u001b[0m \u001b[38;5;214m+28\u001b[0m(\u001b[38;5;220m26\u001b[0m) °C\u001b[0m     \n",
      "  \u001b[38;5;251m  _ - _ - _  \u001b[0m \u001b[1m↗\u001b[0m \u001b[38;5;154m8\u001b[0m km/h\u001b[0m       \n",
      "  \u001b[38;5;251m _ - _ - _ - \u001b[0m 3 km\u001b[0m           \n",
      "                0.0 mm\u001b[0m         \n",
      "                                                       ┌─────────────┐                                                       \n",
      "┌──────────────────────────────┬───────────────────────┤  Thu 21 Nov ├───────────────────────┬──────────────────────────────┐\n",
      "│            Morning           │             Noon      └──────┬──────┘     Evening           │             Night            │\n",
      "├──────────────────────────────┼──────────────────────────────┼──────────────────────────────┼──────────────────────────────┤\n",
      "│ \u001b[38;5;226m    \\   /    \u001b[0m Sunny          │ \u001b[38;5;226m    \\   /    \u001b[0m Sunny          │ \u001b[38;5;226m    \\   /    \u001b[0m Clear          │ \u001b[38;5;226m    \\   /    \u001b[0m Clear          │\n",
      "│ \u001b[38;5;226m     .-.     \u001b[0m \u001b[38;5;226m23\u001b[0m °C\u001b[0m          │ \u001b[38;5;226m     .-.     \u001b[0m \u001b[38;5;214m+28\u001b[0m(\u001b[38;5;220m26\u001b[0m) °C\u001b[0m     │ \u001b[38;5;226m     .-.     \u001b[0m \u001b[38;5;220m+25\u001b[0m(\u001b[38;5;226m24\u001b[0m) °C\u001b[0m     │ \u001b[38;5;226m     .-.     \u001b[0m \u001b[38;5;226m+22\u001b[0m(\u001b[38;5;226m23\u001b[0m) °C\u001b[0m     │\n",
      "│ \u001b[38;5;226m  ― (   ) ―  \u001b[0m \u001b[1m↑\u001b[0m \u001b[38;5;118m6\u001b[0m-\u001b[38;5;154m8\u001b[0m km/h\u001b[0m     │ \u001b[38;5;226m  ― (   ) ―  \u001b[0m \u001b[1m↑\u001b[0m \u001b[38;5;190m10\u001b[0m-\u001b[38;5;190m12\u001b[0m km/h\u001b[0m   │ \u001b[38;5;226m  ― (   ) ―  \u001b[0m \u001b[1m→\u001b[0m \u001b[38;5;082m3\u001b[0m-\u001b[38;5;118m6\u001b[0m km/h\u001b[0m     │ \u001b[38;5;226m  ― (   ) ―  \u001b[0m \u001b[1m←\u001b[0m \u001b[38;5;082m1\u001b[0m-\u001b[38;5;082m2\u001b[0m km/h\u001b[0m     │\n",
      "│ \u001b[38;5;226m     `-’     \u001b[0m 10 km\u001b[0m          │ \u001b[38;5;226m     `-’     \u001b[0m 10 km\u001b[0m          │ \u001b[38;5;226m     `-’     \u001b[0m 10 km\u001b[0m          │ \u001b[38;5;226m     `-’     \u001b[0m 10 km\u001b[0m          │\n",
      "│ \u001b[38;5;226m    /   \\    \u001b[0m 0.0 mm | 0%\u001b[0m    │ \u001b[38;5;226m    /   \\    \u001b[0m 0.0 mm | 0%\u001b[0m    │ \u001b[38;5;226m    /   \\    \u001b[0m 0.0 mm | 0%\u001b[0m    │ \u001b[38;5;226m    /   \\    \u001b[0m 0.0 mm | 0%\u001b[0m    │\n",
      "└──────────────────────────────┴──────────────────────────────┴──────────────────────────────┴──────────────────────────────┘\n",
      "                                                       ┌─────────────┐                                                       \n",
      "┌──────────────────────────────┬───────────────────────┤  Fri 22 Nov ├───────────────────────┬──────────────────────────────┐\n",
      "│            Morning           │             Noon      └──────┬──────┘     Evening           │             Night            │\n",
      "├──────────────────────────────┼──────────────────────────────┼──────────────────────────────┼──────────────────────────────┤\n",
      "│ \u001b[38;5;226m    \\   /    \u001b[0m Sunny          │ \u001b[38;5;226m    \\   /    \u001b[0m Sunny          │ \u001b[38;5;226m    \\   /    \u001b[0m Clear          │ \u001b[38;5;226m    \\   /    \u001b[0m Clear          │\n",
      "│ \u001b[38;5;226m     .-.     \u001b[0m \u001b[38;5;226m23\u001b[0m °C\u001b[0m          │ \u001b[38;5;226m     .-.     \u001b[0m \u001b[38;5;214m+28\u001b[0m(\u001b[38;5;220m26\u001b[0m) °C\u001b[0m     │ \u001b[38;5;226m     .-.     \u001b[0m \u001b[38;5;220m+25\u001b[0m(\u001b[38;5;226m24\u001b[0m) °C\u001b[0m     │ \u001b[38;5;226m     .-.     \u001b[0m \u001b[38;5;226m23\u001b[0m °C\u001b[0m          │\n",
      "│ \u001b[38;5;226m  ― (   ) ―  \u001b[0m \u001b[1m↗\u001b[0m \u001b[38;5;082m3\u001b[0m km/h\u001b[0m       │ \u001b[38;5;226m  ― (   ) ―  \u001b[0m \u001b[1m→\u001b[0m \u001b[38;5;154m7\u001b[0m-\u001b[38;5;154m8\u001b[0m km/h\u001b[0m     │ \u001b[38;5;226m  ― (   ) ―  \u001b[0m \u001b[1m↓\u001b[0m \u001b[38;5;118m6\u001b[0m-\u001b[38;5;226m14\u001b[0m km/h\u001b[0m    │ \u001b[38;5;226m  ― (   ) ―  \u001b[0m \u001b[1m↙\u001b[0m \u001b[38;5;154m8\u001b[0m-\u001b[38;5;220m16\u001b[0m km/h\u001b[0m    │\n",
      "│ \u001b[38;5;226m     `-’     \u001b[0m 10 km\u001b[0m          │ \u001b[38;5;226m     `-’     \u001b[0m 10 km\u001b[0m          │ \u001b[38;5;226m     `-’     \u001b[0m 10 km\u001b[0m          │ \u001b[38;5;226m     `-’     \u001b[0m 10 km\u001b[0m          │\n",
      "│ \u001b[38;5;226m    /   \\    \u001b[0m 0.0 mm | 0%\u001b[0m    │ \u001b[38;5;226m    /   \\    \u001b[0m 0.0 mm | 0%\u001b[0m    │ \u001b[38;5;226m    /   \\    \u001b[0m 0.0 mm | 0%\u001b[0m    │ \u001b[38;5;226m    /   \\    \u001b[0m 0.0 mm | 0%\u001b[0m    │\n",
      "└──────────────────────────────┴──────────────────────────────┴──────────────────────────────┴──────────────────────────────┘\n",
      "                                                       ┌─────────────┐                                                       \n",
      "┌──────────────────────────────┬───────────────────────┤  Sat 23 Nov ├───────────────────────┬──────────────────────────────┐\n",
      "│            Morning           │             Noon      └──────┬──────┘     Evening           │             Night            │\n",
      "├──────────────────────────────┼──────────────────────────────┼──────────────────────────────┼──────────────────────────────┤\n",
      "│ \u001b[38;5;226m    \\   /    \u001b[0m Sunny          │ \u001b[38;5;226m    \\   /    \u001b[0m Sunny          │ \u001b[38;5;226m    \\   /    \u001b[0m Clear          │ \u001b[38;5;226m    \\   /    \u001b[0m Clear          │\n",
      "│ \u001b[38;5;226m     .-.     \u001b[0m \u001b[38;5;226m23\u001b[0m °C\u001b[0m          │ \u001b[38;5;226m     .-.     \u001b[0m \u001b[38;5;214m+28\u001b[0m(\u001b[38;5;220m26\u001b[0m) °C\u001b[0m     │ \u001b[38;5;226m     .-.     \u001b[0m \u001b[38;5;226m+24\u001b[0m(\u001b[38;5;226m23\u001b[0m) °C\u001b[0m     │ \u001b[38;5;226m     .-.     \u001b[0m \u001b[38;5;226m+22\u001b[0m(\u001b[38;5;226m23\u001b[0m) °C\u001b[0m     │\n",
      "│ \u001b[38;5;226m  ― (   ) ―  \u001b[0m \u001b[1m↘\u001b[0m \u001b[38;5;190m10\u001b[0m-\u001b[38;5;226m13\u001b[0m km/h\u001b[0m   │ \u001b[38;5;226m  ― (   ) ―  \u001b[0m \u001b[1m↘\u001b[0m \u001b[38;5;190m12\u001b[0m-\u001b[38;5;226m14\u001b[0m km/h\u001b[0m   │ \u001b[38;5;226m  ― (   ) ―  \u001b[0m \u001b[1m↓\u001b[0m \u001b[38;5;154m9\u001b[0m-\u001b[38;5;220m19\u001b[0m km/h\u001b[0m    │ \u001b[38;5;226m  ― (   ) ―  \u001b[0m \u001b[1m↓\u001b[0m \u001b[38;5;190m10\u001b[0m-\u001b[38;5;214m20\u001b[0m km/h\u001b[0m   │\n",
      "│ \u001b[38;5;226m     `-’     \u001b[0m 10 km\u001b[0m          │ \u001b[38;5;226m     `-’     \u001b[0m 10 km\u001b[0m          │ \u001b[38;5;226m     `-’     \u001b[0m 10 km\u001b[0m          │ \u001b[38;5;226m     `-’     \u001b[0m 10 km\u001b[0m          │\n",
      "│ \u001b[38;5;226m    /   \\    \u001b[0m 0.0 mm | 0%\u001b[0m    │ \u001b[38;5;226m    /   \\    \u001b[0m 0.0 mm | 0%\u001b[0m    │ \u001b[38;5;226m    /   \\    \u001b[0m 0.0 mm | 0%\u001b[0m    │ \u001b[38;5;226m    /   \\    \u001b[0m 0.0 mm | 0%\u001b[0m    │\n",
      "└──────────────────────────────┴──────────────────────────────┴──────────────────────────────┴──────────────────────────────┘\n",
      "Location: مُلتان, Multān District, پنجاب, 60000, ‏پاکستان‎ [30.1979793,71.4724978]\n",
      "\n",
      "Follow \u001b[46m\u001b[30m@igor_chubin\u001b[0m for wttr.in updates\n",
      "\n"
     ]
    }
   ],
   "source": [
    "import requests\n",
    "class API():\n",
    "    def api_check(self):\n",
    "        url = 'https://jsonplaceholder.typicode.com/posts'\n",
    "        response = requests.get(url)\n",
    "        if response.status_code == 200:\n",
    "            print('API is working')\n",
    "        else:\n",
    "            print('API is not working')\n",
    "    \n",
    "    def api_weather(self, city):\n",
    "        url = f'https://wttr.in/{city}'\n",
    "        response = requests.get(url)\n",
    "        print(response.text)\n",
    "api_a = API()\n",
    "api_a.api_check()\n",
    "api_a.api_weather('Multan')"
   ]
  },
  {
   "cell_type": "code",
   "execution_count": 4,
   "id": "e193ba6f-1d1a-46a6-83b1-878ea889b287",
   "metadata": {},
   "outputs": [
    {
     "name": "stdout",
     "output_type": "stream",
     "text": [
      "API is working\n",
      "Weather report: Malaysia\n",
      "\n",
      "  \u001b[38;5;226m _`/\"\"\u001b[38;5;250m.-.    \u001b[0m Patchy rain nearby\n",
      "  \u001b[38;5;226m  ,\\_\u001b[38;5;250m(   ).  \u001b[0m \u001b[38;5;220m+25\u001b[0m(\u001b[38;5;214m28\u001b[0m) °C\u001b[0m     \n",
      "  \u001b[38;5;226m   /\u001b[38;5;250m(___(__) \u001b[0m \u001b[1m↘\u001b[0m \u001b[38;5;118m4\u001b[0m km/h\u001b[0m       \n",
      "  \u001b[38;5;111m     ‘ ‘ ‘ ‘ \u001b[0m 10 km\u001b[0m          \n",
      "  \u001b[38;5;111m    ‘ ‘ ‘ ‘  \u001b[0m 0.1 mm\u001b[0m         \n",
      "                                                       ┌─────────────┐                                                       \n",
      "┌──────────────────────────────┬───────────────────────┤  Thu 21 Nov ├───────────────────────┬──────────────────────────────┐\n",
      "│            Morning           │             Noon      └──────┬──────┘     Evening           │             Night            │\n",
      "├──────────────────────────────┼──────────────────────────────┼──────────────────────────────┼──────────────────────────────┤\n",
      "│ \u001b[38;5;226m _`/\"\"\u001b[38;5;250m.-.    \u001b[0m Patchy rain ne…│ \u001b[38;5;226m _`/\"\"\u001b[38;5;250m.-.    \u001b[0m Patchy rain ne…│ \u001b[38;5;226m _`/\"\"\u001b[38;5;250m.-.    \u001b[0m Patchy rain ne…│ \u001b[38;5;226m _`/\"\"\u001b[38;5;250m.-.    \u001b[0m Light rain sho…│\n",
      "│ \u001b[38;5;226m  ,\\_\u001b[38;5;250m(   ).  \u001b[0m \u001b[38;5;220m+26\u001b[0m(\u001b[38;5;214m30\u001b[0m) °C\u001b[0m     │ \u001b[38;5;226m  ,\\_\u001b[38;5;250m(   ).  \u001b[0m \u001b[38;5;208m+31\u001b[0m(\u001b[38;5;202m36\u001b[0m) °C\u001b[0m     │ \u001b[38;5;226m  ,\\_\u001b[38;5;250m(   ).  \u001b[0m \u001b[38;5;220m+25\u001b[0m(\u001b[38;5;214m28\u001b[0m) °C\u001b[0m     │ \u001b[38;5;226m  ,\\_\u001b[38;5;250m(   ).  \u001b[0m \u001b[38;5;226m+24\u001b[0m(\u001b[38;5;220m26\u001b[0m) °C\u001b[0m     │\n",
      "│ \u001b[38;5;226m   /\u001b[38;5;250m(___(__) \u001b[0m \u001b[1m↖\u001b[0m \u001b[38;5;082m2\u001b[0m km/h\u001b[0m       │ \u001b[38;5;226m   /\u001b[38;5;250m(___(__) \u001b[0m \u001b[1m←\u001b[0m \u001b[38;5;082m2\u001b[0m km/h\u001b[0m       │ \u001b[38;5;226m   /\u001b[38;5;250m(___(__) \u001b[0m \u001b[1m↘\u001b[0m \u001b[38;5;118m4\u001b[0m-\u001b[38;5;154m8\u001b[0m km/h\u001b[0m     │ \u001b[38;5;226m   /\u001b[38;5;250m(___(__) \u001b[0m \u001b[1m↓\u001b[0m \u001b[38;5;082m3\u001b[0m-\u001b[38;5;118m5\u001b[0m km/h\u001b[0m     │\n",
      "│ \u001b[38;5;111m     ‘ ‘ ‘ ‘ \u001b[0m 10 km\u001b[0m          │ \u001b[38;5;111m     ‘ ‘ ‘ ‘ \u001b[0m 10 km\u001b[0m          │ \u001b[38;5;111m     ‘ ‘ ‘ ‘ \u001b[0m 10 km\u001b[0m          │ \u001b[38;5;111m     ‘ ‘ ‘ ‘ \u001b[0m 10 km\u001b[0m          │\n",
      "│ \u001b[38;5;111m    ‘ ‘ ‘ ‘  \u001b[0m 0.0 mm | 63%\u001b[0m   │ \u001b[38;5;111m    ‘ ‘ ‘ ‘  \u001b[0m 0.0 mm | 86%\u001b[0m   │ \u001b[38;5;111m    ‘ ‘ ‘ ‘  \u001b[0m 0.1 mm | 100%\u001b[0m  │ \u001b[38;5;111m    ‘ ‘ ‘ ‘  \u001b[0m 0.4 mm | 100%\u001b[0m  │\n",
      "└──────────────────────────────┴──────────────────────────────┴──────────────────────────────┴──────────────────────────────┘\n",
      "                                                       ┌─────────────┐                                                       \n",
      "┌──────────────────────────────┬───────────────────────┤  Fri 22 Nov ├───────────────────────┬──────────────────────────────┐\n",
      "│            Morning           │             Noon      └──────┬──────┘     Evening           │             Night            │\n",
      "├──────────────────────────────┼──────────────────────────────┼──────────────────────────────┼──────────────────────────────┤\n",
      "│ \u001b[38;5;226m _`/\"\"\u001b[38;5;250m.-.    \u001b[0m Patchy rain ne…│ \u001b[38;5;226m _`/\"\"\u001b[38;5;250m.-.    \u001b[0m Patchy light d…│ \u001b[38;5;226m _`/\"\"\u001b[38;5;250m.-.    \u001b[0m Patchy rain ne…│ \u001b[38;5;226m _`/\"\"\u001b[38;5;250m.-.    \u001b[0m Light rain sho…│\n",
      "│ \u001b[38;5;226m  ,\\_\u001b[38;5;250m(   ).  \u001b[0m \u001b[38;5;220m+27\u001b[0m(\u001b[38;5;208m31\u001b[0m) °C\u001b[0m     │ \u001b[38;5;226m  ,\\_\u001b[38;5;250m(   ).  \u001b[0m \u001b[38;5;208m+32\u001b[0m(\u001b[38;5;196m37\u001b[0m) °C\u001b[0m     │ \u001b[38;5;226m  ,\\_\u001b[38;5;250m(   ).  \u001b[0m \u001b[38;5;220m+25\u001b[0m(\u001b[38;5;214m29\u001b[0m) °C\u001b[0m     │ \u001b[38;5;226m  ,\\_\u001b[38;5;250m(   ).  \u001b[0m \u001b[38;5;226m+24\u001b[0m(\u001b[38;5;220m26\u001b[0m) °C\u001b[0m     │\n",
      "│ \u001b[38;5;226m   /\u001b[38;5;250m(___(__) \u001b[0m \u001b[1m↖\u001b[0m \u001b[38;5;082m2\u001b[0m km/h\u001b[0m       │ \u001b[38;5;226m   /\u001b[38;5;250m(___(__) \u001b[0m \u001b[1m↗\u001b[0m \u001b[38;5;082m1\u001b[0m km/h\u001b[0m       │ \u001b[38;5;226m   /\u001b[38;5;250m(___(__) \u001b[0m \u001b[1m↘\u001b[0m \u001b[38;5;082m3\u001b[0m-\u001b[38;5;118m6\u001b[0m km/h\u001b[0m     │ \u001b[38;5;226m   /\u001b[38;5;250m(___(__) \u001b[0m \u001b[1m→\u001b[0m \u001b[38;5;082m2\u001b[0m-\u001b[38;5;118m5\u001b[0m km/h\u001b[0m     │\n",
      "│ \u001b[38;5;111m     ‘ ‘ ‘ ‘ \u001b[0m 10 km\u001b[0m          │ \u001b[38;5;111m     ‘ ‘ ‘ ‘ \u001b[0m 5 km\u001b[0m           │ \u001b[38;5;111m     ‘ ‘ ‘ ‘ \u001b[0m 10 km\u001b[0m          │ \u001b[38;5;111m     ‘ ‘ ‘ ‘ \u001b[0m 10 km\u001b[0m          │\n",
      "│ \u001b[38;5;111m    ‘ ‘ ‘ ‘  \u001b[0m 0.1 mm | 100%\u001b[0m  │ \u001b[38;5;111m    ‘ ‘ ‘ ‘  \u001b[0m 0.6 mm | 100%\u001b[0m  │ \u001b[38;5;111m    ‘ ‘ ‘ ‘  \u001b[0m 0.1 mm | 100%\u001b[0m  │ \u001b[38;5;111m    ‘ ‘ ‘ ‘  \u001b[0m 0.9 mm | 100%\u001b[0m  │\n",
      "└──────────────────────────────┴──────────────────────────────┴──────────────────────────────┴──────────────────────────────┘\n",
      "                                                       ┌─────────────┐                                                       \n",
      "┌──────────────────────────────┬───────────────────────┤  Sat 23 Nov ├───────────────────────┬──────────────────────────────┐\n",
      "│            Morning           │             Noon      └──────┬──────┘     Evening           │             Night            │\n",
      "├──────────────────────────────┼──────────────────────────────┼──────────────────────────────┼──────────────────────────────┤\n",
      "│ \u001b[38;5;226m _`/\"\"\u001b[38;5;250m.-.    \u001b[0m Patchy rain ne…│ \u001b[38;5;226m _`/\"\"\u001b[38;5;250m.-.    \u001b[0m Light rain sho…│ \u001b[38;5;226m _`/\"\"\u001b[38;5;250m.-.    \u001b[0m Patchy rain ne…│               Fog            │\n",
      "│ \u001b[38;5;226m  ,\\_\u001b[38;5;250m(   ).  \u001b[0m \u001b[38;5;220m+26\u001b[0m(\u001b[38;5;214m30\u001b[0m) °C\u001b[0m     │ \u001b[38;5;226m  ,\\_\u001b[38;5;250m(   ).  \u001b[0m \u001b[38;5;214m+30\u001b[0m(\u001b[38;5;202m35\u001b[0m) °C\u001b[0m     │ \u001b[38;5;226m  ,\\_\u001b[38;5;250m(   ).  \u001b[0m \u001b[38;5;220m+25\u001b[0m(\u001b[38;5;214m28\u001b[0m) °C\u001b[0m     │ \u001b[38;5;251m _ - _ - _ - \u001b[0m \u001b[38;5;226m+24\u001b[0m(\u001b[38;5;220m26\u001b[0m) °C\u001b[0m     │\n",
      "│ \u001b[38;5;226m   /\u001b[38;5;250m(___(__) \u001b[0m \u001b[1m↖\u001b[0m \u001b[38;5;082m2\u001b[0m-\u001b[38;5;082m3\u001b[0m km/h\u001b[0m     │ \u001b[38;5;226m   /\u001b[38;5;250m(___(__) \u001b[0m \u001b[1m→\u001b[0m \u001b[38;5;082m1\u001b[0m-\u001b[38;5;082m3\u001b[0m km/h\u001b[0m     │ \u001b[38;5;226m   /\u001b[38;5;250m(___(__) \u001b[0m \u001b[1m↘\u001b[0m \u001b[38;5;082m3\u001b[0m-\u001b[38;5;154m7\u001b[0m km/h\u001b[0m     │ \u001b[38;5;251m  _ - _ - _  \u001b[0m \u001b[1m↘\u001b[0m \u001b[38;5;082m2\u001b[0m-\u001b[38;5;118m4\u001b[0m km/h\u001b[0m     │\n",
      "│ \u001b[38;5;111m     ‘ ‘ ‘ ‘ \u001b[0m 9 km\u001b[0m           │ \u001b[38;5;111m     ‘ ‘ ‘ ‘ \u001b[0m 10 km\u001b[0m          │ \u001b[38;5;111m     ‘ ‘ ‘ ‘ \u001b[0m 9 km\u001b[0m           │ \u001b[38;5;251m _ - _ - _ - \u001b[0m 0 km\u001b[0m           │\n",
      "│ \u001b[38;5;111m    ‘ ‘ ‘ ‘  \u001b[0m 1.9 mm | 100%\u001b[0m  │ \u001b[38;5;111m    ‘ ‘ ‘ ‘  \u001b[0m 0.4 mm | 100%\u001b[0m  │ \u001b[38;5;111m    ‘ ‘ ‘ ‘  \u001b[0m 1.7 mm | 100%\u001b[0m  │               0.0 mm | 0%\u001b[0m    │\n",
      "└──────────────────────────────┴──────────────────────────────┴──────────────────────────────┴──────────────────────────────┘\n",
      "Location: Malaysia [2.3923759,112.8471939]\n",
      "\n",
      "Follow \u001b[46m\u001b[30m@igor_chubin\u001b[0m for wttr.in updates\n",
      "\n"
     ]
    }
   ],
   "source": [
    "import requests\n",
    "class API():\n",
    "    def api_check(self):\n",
    "        url = 'https://jsonplaceholder.typicode.com/posts'\n",
    "        response = requests.get(url)\n",
    "        if response.status_code == 200:\n",
    "            print('API is working')\n",
    "        else:\n",
    "            print('API is not working')\n",
    "    \n",
    "    def api_weather(self, city):\n",
    "        url = f'https://wttr.in/{city}'\n",
    "        response = requests.get(url)\n",
    "        print(response.text)\n",
    "api_a = API()\n",
    "api_a.api_check()\n",
    "api_a.api_weather('Malaysia')"
   ]
  },
  {
   "cell_type": "code",
   "execution_count": 5,
   "id": "417a8a67-e7cf-442a-89f5-b987ad23be3e",
   "metadata": {},
   "outputs": [
    {
     "name": "stdout",
     "output_type": "stream",
     "text": [
      "API is working\n",
      "Weather report: Indonesia\n",
      "\n",
      "  \u001b[38;5;226m   \\  /\u001b[0m       Partly cloudy\n",
      "  \u001b[38;5;226m _ /\"\"\u001b[38;5;250m.-.    \u001b[0m \u001b[38;5;214m+29\u001b[0m(\u001b[38;5;208m31\u001b[0m) °C\u001b[0m     \n",
      "  \u001b[38;5;226m   \\_\u001b[38;5;250m(   ).  \u001b[0m \u001b[1m↓\u001b[0m \u001b[38;5;226m14\u001b[0m km/h\u001b[0m      \n",
      "  \u001b[38;5;226m   /\u001b[38;5;250m(___(__) \u001b[0m 8 km\u001b[0m           \n",
      "                0.3 mm\u001b[0m         \n",
      "                                                       ┌─────────────┐                                                       \n",
      "┌──────────────────────────────┬───────────────────────┤  Thu 21 Nov ├───────────────────────┬──────────────────────────────┐\n",
      "│            Morning           │             Noon      └──────┬──────┘     Evening           │             Night            │\n",
      "├──────────────────────────────┼──────────────────────────────┼──────────────────────────────┼──────────────────────────────┤\n",
      "│ \u001b[38;5;226m    \\   /    \u001b[0m Sunny          │ \u001b[38;5;226m _`/\"\"\u001b[38;5;250m.-.    \u001b[0m Patchy light d…│ \u001b[38;5;250m     .-.     \u001b[0m Patchy light r…│ \u001b[38;5;226m _`/\"\"\u001b[38;5;250m.-.    \u001b[0m Light rain sho…│\n",
      "│ \u001b[38;5;226m     .-.     \u001b[0m \u001b[38;5;214m+29\u001b[0m(\u001b[38;5;208m33\u001b[0m) °C\u001b[0m     │ \u001b[38;5;226m  ,\\_\u001b[38;5;250m(   ).  \u001b[0m \u001b[38;5;208m+32\u001b[0m(\u001b[38;5;196m37\u001b[0m) °C\u001b[0m     │ \u001b[38;5;250m    (   ).   \u001b[0m \u001b[38;5;208m+31\u001b[0m(\u001b[38;5;202m35\u001b[0m) °C\u001b[0m     │ \u001b[38;5;226m  ,\\_\u001b[38;5;250m(   ).  \u001b[0m \u001b[38;5;214m+29\u001b[0m(\u001b[38;5;202m34\u001b[0m) °C\u001b[0m     │\n",
      "│ \u001b[38;5;226m  ― (   ) ―  \u001b[0m \u001b[1m↙\u001b[0m \u001b[38;5;082m1\u001b[0m km/h\u001b[0m       │ \u001b[38;5;226m   /\u001b[38;5;250m(___(__) \u001b[0m \u001b[1m↓\u001b[0m \u001b[38;5;154m7\u001b[0m-\u001b[38;5;154m8\u001b[0m km/h\u001b[0m     │ \u001b[38;5;250m   (___(__)  \u001b[0m \u001b[1m↘\u001b[0m \u001b[38;5;190m10\u001b[0m-\u001b[38;5;190m12\u001b[0m km/h\u001b[0m   │ \u001b[38;5;226m   /\u001b[38;5;250m(___(__) \u001b[0m \u001b[1m↓\u001b[0m \u001b[38;5;118m6\u001b[0m-\u001b[38;5;154m8\u001b[0m km/h\u001b[0m     │\n",
      "│ \u001b[38;5;226m     `-’     \u001b[0m 10 km\u001b[0m          │ \u001b[38;5;111m     ‘ ‘ ‘ ‘ \u001b[0m 5 km\u001b[0m           │ \u001b[38;5;111m    ‘ ‘ ‘ ‘  \u001b[0m 9 km\u001b[0m           │ \u001b[38;5;111m     ‘ ‘ ‘ ‘ \u001b[0m 10 km\u001b[0m          │\n",
      "│ \u001b[38;5;226m    /   \\    \u001b[0m 0.0 mm | 0%\u001b[0m    │ \u001b[38;5;111m    ‘ ‘ ‘ ‘  \u001b[0m 0.2 mm | 100%\u001b[0m  │ \u001b[38;5;111m   ‘ ‘ ‘ ‘   \u001b[0m 1.6 mm | 100%\u001b[0m  │ \u001b[38;5;111m    ‘ ‘ ‘ ‘  \u001b[0m 2.0 mm | 100%\u001b[0m  │\n",
      "└──────────────────────────────┴──────────────────────────────┴──────────────────────────────┴──────────────────────────────┘\n",
      "                                                       ┌─────────────┐                                                       \n",
      "┌──────────────────────────────┬───────────────────────┤  Fri 22 Nov ├───────────────────────┬──────────────────────────────┐\n",
      "│            Morning           │             Noon      └──────┬──────┘     Evening           │             Night            │\n",
      "├──────────────────────────────┼──────────────────────────────┼──────────────────────────────┼──────────────────────────────┤\n",
      "│ \u001b[38;5;226m   \\  /\u001b[0m       Partly Cloudy  │ \u001b[38;5;226m _`/\"\"\u001b[38;5;250m.-.    \u001b[0m Light rain sho…│ \u001b[38;5;226m _`/\"\"\u001b[38;5;250m.-.    \u001b[0m Patchy light d…│ \u001b[38;5;226m   \\  /\u001b[0m       Partly Cloudy  │\n",
      "│ \u001b[38;5;226m _ /\"\"\u001b[38;5;250m.-.    \u001b[0m \u001b[38;5;214m+29\u001b[0m(\u001b[38;5;208m33\u001b[0m) °C\u001b[0m     │ \u001b[38;5;226m  ,\\_\u001b[38;5;250m(   ).  \u001b[0m \u001b[38;5;208m+32\u001b[0m(\u001b[38;5;196m37\u001b[0m) °C\u001b[0m     │ \u001b[38;5;226m  ,\\_\u001b[38;5;250m(   ).  \u001b[0m \u001b[38;5;214m+30\u001b[0m(\u001b[38;5;202m34\u001b[0m) °C\u001b[0m     │ \u001b[38;5;226m _ /\"\"\u001b[38;5;250m.-.    \u001b[0m \u001b[38;5;214m+30\u001b[0m(\u001b[38;5;202m34\u001b[0m) °C\u001b[0m     │\n",
      "│ \u001b[38;5;226m   \\_\u001b[38;5;250m(   ).  \u001b[0m \u001b[1m←\u001b[0m \u001b[38;5;118m4\u001b[0m-\u001b[38;5;118m5\u001b[0m km/h\u001b[0m     │ \u001b[38;5;226m   /\u001b[38;5;250m(___(__) \u001b[0m \u001b[1m↓\u001b[0m \u001b[38;5;118m6\u001b[0m-\u001b[38;5;154m7\u001b[0m km/h\u001b[0m     │ \u001b[38;5;226m   /\u001b[38;5;250m(___(__) \u001b[0m \u001b[1m↓\u001b[0m \u001b[38;5;190m10\u001b[0m-\u001b[38;5;226m13\u001b[0m km/h\u001b[0m   │ \u001b[38;5;226m   \\_\u001b[38;5;250m(   ).  \u001b[0m \u001b[1m↘\u001b[0m \u001b[38;5;118m4\u001b[0m-\u001b[38;5;118m5\u001b[0m km/h\u001b[0m     │\n",
      "│ \u001b[38;5;226m   /\u001b[38;5;250m(___(__) \u001b[0m 10 km\u001b[0m          │ \u001b[38;5;111m     ‘ ‘ ‘ ‘ \u001b[0m 10 km\u001b[0m          │ \u001b[38;5;111m     ‘ ‘ ‘ ‘ \u001b[0m 5 km\u001b[0m           │ \u001b[38;5;226m   /\u001b[38;5;250m(___(__) \u001b[0m 10 km\u001b[0m          │\n",
      "│               0.0 mm | 0%\u001b[0m    │ \u001b[38;5;111m    ‘ ‘ ‘ ‘  \u001b[0m 0.2 mm | 100%\u001b[0m  │ \u001b[38;5;111m    ‘ ‘ ‘ ‘  \u001b[0m 0.5 mm | 100%\u001b[0m  │               0.0 mm | 0%\u001b[0m    │\n",
      "└──────────────────────────────┴──────────────────────────────┴──────────────────────────────┴──────────────────────────────┘\n",
      "                                                       ┌─────────────┐                                                       \n",
      "┌──────────────────────────────┬───────────────────────┤  Sat 23 Nov ├───────────────────────┬──────────────────────────────┐\n",
      "│            Morning           │             Noon      └──────┬──────┘     Evening           │             Night            │\n",
      "├──────────────────────────────┼──────────────────────────────┼──────────────────────────────┼──────────────────────────────┤\n",
      "│ \u001b[38;5;226m _`/\"\"\u001b[38;5;250m.-.    \u001b[0m Patchy rain ne…│ \u001b[38;5;226m _`/\"\"\u001b[38;5;250m.-.    \u001b[0m Patchy rain ne…│ \u001b[38;5;226m _`/\"\"\u001b[38;5;250m.-.    \u001b[0m Patchy light d…│ \u001b[38;5;226m   \\  /\u001b[0m       Partly Cloudy  │\n",
      "│ \u001b[38;5;226m  ,\\_\u001b[38;5;250m(   ).  \u001b[0m \u001b[38;5;214m+29\u001b[0m(\u001b[38;5;208m33\u001b[0m) °C\u001b[0m     │ \u001b[38;5;226m  ,\\_\u001b[38;5;250m(   ).  \u001b[0m \u001b[38;5;208m+33\u001b[0m(\u001b[38;5;196m37\u001b[0m) °C\u001b[0m     │ \u001b[38;5;226m  ,\\_\u001b[38;5;250m(   ).  \u001b[0m \u001b[38;5;208m+31\u001b[0m(\u001b[38;5;202m35\u001b[0m) °C\u001b[0m     │ \u001b[38;5;226m _ /\"\"\u001b[38;5;250m.-.    \u001b[0m \u001b[38;5;214m+30\u001b[0m(\u001b[38;5;202m34\u001b[0m) °C\u001b[0m     │\n",
      "│ \u001b[38;5;226m   /\u001b[38;5;250m(___(__) \u001b[0m \u001b[1m↖\u001b[0m \u001b[38;5;118m6\u001b[0m-\u001b[38;5;154m7\u001b[0m km/h\u001b[0m     │ \u001b[38;5;226m   /\u001b[38;5;250m(___(__) \u001b[0m \u001b[1m↓\u001b[0m \u001b[38;5;082m3\u001b[0m km/h\u001b[0m       │ \u001b[38;5;226m   /\u001b[38;5;250m(___(__) \u001b[0m \u001b[1m↘\u001b[0m \u001b[38;5;154m8\u001b[0m-\u001b[38;5;190m10\u001b[0m km/h\u001b[0m    │ \u001b[38;5;226m   \\_\u001b[38;5;250m(   ).  \u001b[0m \u001b[1m↓\u001b[0m \u001b[38;5;118m6\u001b[0m-\u001b[38;5;154m8\u001b[0m km/h\u001b[0m     │\n",
      "│ \u001b[38;5;111m     ‘ ‘ ‘ ‘ \u001b[0m 10 km\u001b[0m          │ \u001b[38;5;111m     ‘ ‘ ‘ ‘ \u001b[0m 10 km\u001b[0m          │ \u001b[38;5;111m     ‘ ‘ ‘ ‘ \u001b[0m 5 km\u001b[0m           │ \u001b[38;5;226m   /\u001b[38;5;250m(___(__) \u001b[0m 10 km\u001b[0m          │\n",
      "│ \u001b[38;5;111m    ‘ ‘ ‘ ‘  \u001b[0m 0.1 mm | 100%\u001b[0m  │ \u001b[38;5;111m    ‘ ‘ ‘ ‘  \u001b[0m 0.0 mm | 68%\u001b[0m   │ \u001b[38;5;111m    ‘ ‘ ‘ ‘  \u001b[0m 0.2 mm | 100%\u001b[0m  │               0.0 mm | 0%\u001b[0m    │\n",
      "└──────────────────────────────┴──────────────────────────────┴──────────────────────────────┴──────────────────────────────┘\n",
      "Location: Jakarta, Gambir, Jakarta Pusat, Daerah Khusus Ibukota Jakarta, Indonesia [-6.1753941,106.827183]\n",
      "\n",
      "Follow \u001b[46m\u001b[30m@igor_chubin\u001b[0m for wttr.in updates\n",
      "\n"
     ]
    }
   ],
   "source": [
    "import requests\n",
    "class API():\n",
    "    def api_check(self):\n",
    "        url = 'https://jsonplaceholder.typicode.com/posts'\n",
    "        response = requests.get(url)\n",
    "        if response.status_code == 200:\n",
    "            print('API is working')\n",
    "        else:\n",
    "            print('API is not working')\n",
    "    \n",
    "    def api_weather(self, city):\n",
    "        url = f'https://wttr.in/{city}'\n",
    "        response = requests.get(url)\n",
    "        print(response.text)\n",
    "api_a = API()\n",
    "api_a.api_check()\n",
    "api_a.api_weather('Indonesia')"
   ]
  },
  {
   "cell_type": "code",
   "execution_count": 6,
   "id": "bca0c7f1-c615-434c-9eac-952e2e151b74",
   "metadata": {},
   "outputs": [
    {
     "data": {
      "text/plain": [
       "'ello'"
      ]
     },
     "execution_count": 6,
     "metadata": {},
     "output_type": "execute_result"
    }
   ],
   "source": [
    "'ello'\n"
   ]
  },
  {
   "cell_type": "code",
   "execution_count": 7,
   "id": "3a93f6ee-77cf-4f5d-916e-8f6c08db91b6",
   "metadata": {},
   "outputs": [
    {
     "data": {
      "text/plain": [
       "'21 November 2024'"
      ]
     },
     "execution_count": 7,
     "metadata": {},
     "output_type": "execute_result"
    }
   ],
   "source": [
    "'21 November 2024'"
   ]
  },
  {
   "cell_type": "code",
   "execution_count": 8,
   "id": "749758f0-6cc8-46c4-bd04-e4e3ce387941",
   "metadata": {},
   "outputs": [
    {
     "name": "stdout",
     "output_type": "stream",
     "text": [
      "0\n",
      "1\n",
      "2\n",
      "3\n",
      "4\n",
      "5\n",
      "6\n",
      "7\n",
      "8\n",
      "9\n",
      "10\n"
     ]
    }
   ],
   "source": [
    "for nums in range(0, 11):\n",
    "    print(nums)"
   ]
  },
  {
   "cell_type": "code",
   "execution_count": 10,
   "id": "aea3dbd3-6aec-4594-a462-643ad1e9267d",
   "metadata": {},
   "outputs": [
    {
     "name": "stdout",
     "output_type": "stream",
     "text": [
      "0\n",
      "2\n",
      "4\n",
      "6\n",
      "8\n",
      "10\n"
     ]
    }
   ],
   "source": [
    "for num in range(0, 11):\n",
    "    if(num%2==0):\n",
    "        print(num)"
   ]
  },
  {
   "cell_type": "code",
   "execution_count": 12,
   "id": "9e85985f-8d2c-4367-9cda-862597bbb0e5",
   "metadata": {},
   "outputs": [
    {
     "name": "stdout",
     "output_type": "stream",
     "text": [
      "3\n",
      "6\n",
      "9\n",
      "12\n",
      "15\n",
      "18\n",
      "21\n",
      "24\n",
      "27\n",
      "30\n",
      "33\n",
      "36\n",
      "39\n",
      "42\n",
      "45\n",
      "48\n"
     ]
    }
   ],
   "source": [
    "nl = [   1, 2, 3, 4, 5, 6, 7, 8, 9, 10,\n",
    "11, 12, 13, 14, 15, 16, 17, 18, 19, 20,\n",
    "21, 22, 23, 24, 25, 26, 27, 28, 29, 30,\n",
    "31, 32, 33, 34, 35, 36, 37, 38, 39, 40,\n",
    "41, 42, 43, 44, 45, 46, 47, 48, 49, 50]\n",
    "\n",
    "for n in nl:\n",
    "    if n%3==0 :\n",
    "        print(n)"
   ]
  },
  {
   "cell_type": "code",
   "execution_count": 18,
   "id": "28aad92f-a3d3-49f7-9582-b56cb4fafd58",
   "metadata": {},
   "outputs": [],
   "source": [
    "st = {'a quick brown fox jumps over the lazy dog'}"
   ]
  },
  {
   "cell_type": "code",
   "execution_count": 23,
   "id": "27292646-3714-474c-82c4-1d47d611b9c7",
   "metadata": {},
   "outputs": [
    {
     "data": {
      "text/plain": [
       "['a']"
      ]
     },
     "execution_count": 23,
     "metadata": {},
     "output_type": "execute_result"
    }
   ],
   "source": [
    "str.split('a')\n"
   ]
  },
  {
   "cell_type": "code",
   "execution_count": 21,
   "id": "5f650e08-321c-40d8-8a78-34b9c3f31388",
   "metadata": {},
   "outputs": [
    {
     "data": {
      "text/plain": [
       "{'a quick brown fox jumps over the lazy dog'}"
      ]
     },
     "execution_count": 21,
     "metadata": {},
     "output_type": "execute_result"
    }
   ],
   "source": [
    "st"
   ]
  },
  {
   "cell_type": "code",
   "execution_count": 7,
   "id": "150266b4-cd11-4b0c-b946-f63d329a877d",
   "metadata": {},
   "outputs": [
    {
     "name": "stdout",
     "output_type": "stream",
     "text": [
      "FizzBuzz\n",
      "Fizz\n",
      "Buzz\n",
      "1\n",
      "2\n",
      "Fizz\n",
      "3\n",
      "4\n",
      "Buzz\n",
      "Fizz\n",
      "6\n",
      "7\n",
      "8\n",
      "Fizz\n",
      "9\n",
      "Buzz\n",
      "11\n",
      "Fizz\n",
      "12\n",
      "13\n",
      "14\n",
      "FizzBuzz\n",
      "Fizz\n",
      "Buzz\n",
      "16\n",
      "17\n",
      "Fizz\n",
      "18\n",
      "19\n",
      "Buzz\n",
      "Fizz\n",
      "21\n",
      "22\n",
      "23\n",
      "Fizz\n",
      "24\n",
      "Buzz\n",
      "26\n",
      "Fizz\n",
      "27\n",
      "28\n",
      "29\n",
      "FizzBuzz\n",
      "Fizz\n",
      "Buzz\n",
      "31\n",
      "32\n",
      "Fizz\n",
      "33\n",
      "34\n",
      "Buzz\n",
      "Fizz\n",
      "36\n",
      "37\n",
      "38\n",
      "Fizz\n",
      "39\n",
      "Buzz\n",
      "41\n",
      "Fizz\n",
      "42\n",
      "43\n",
      "44\n",
      "FizzBuzz\n",
      "Fizz\n",
      "Buzz\n",
      "46\n",
      "47\n",
      "Fizz\n",
      "48\n",
      "49\n",
      "Buzz\n",
      "Fizz\n",
      "51\n",
      "52\n",
      "53\n",
      "Fizz\n",
      "54\n",
      "Buzz\n",
      "56\n",
      "Fizz\n",
      "57\n",
      "58\n",
      "59\n",
      "FizzBuzz\n",
      "Fizz\n",
      "Buzz\n",
      "61\n",
      "62\n",
      "Fizz\n",
      "63\n",
      "64\n",
      "Buzz\n",
      "Fizz\n",
      "66\n",
      "67\n",
      "68\n",
      "Fizz\n",
      "69\n",
      "Buzz\n",
      "71\n",
      "Fizz\n",
      "72\n",
      "73\n",
      "74\n",
      "FizzBuzz\n",
      "Fizz\n",
      "Buzz\n",
      "76\n",
      "77\n",
      "Fizz\n",
      "78\n",
      "79\n",
      "Buzz\n",
      "Fizz\n",
      "81\n",
      "82\n",
      "83\n",
      "Fizz\n",
      "84\n",
      "Buzz\n",
      "86\n",
      "Fizz\n",
      "87\n",
      "88\n",
      "89\n",
      "FizzBuzz\n",
      "Fizz\n",
      "Buzz\n",
      "91\n",
      "92\n",
      "Fizz\n",
      "93\n",
      "94\n",
      "Buzz\n",
      "Fizz\n",
      "96\n",
      "97\n",
      "98\n",
      "Fizz\n",
      "99\n",
      "Buzz\n"
     ]
    }
   ],
   "source": [
    "for item in range(0, 101):\n",
    "    if item%3==0 and item%5==0 :\n",
    "        print('FizzBuzz')\n",
    "    if item%3==0 :\n",
    "        print('Fizz')\n",
    "    if item%5==0:\n",
    "        print('Buzz')\n",
    "    else:\n",
    "        print(item)"
   ]
  },
  {
   "cell_type": "code",
   "execution_count": 2,
   "id": "76b85791-ae0a-4eaa-b964-77bf80740753",
   "metadata": {},
   "outputs": [],
   "source": [
    "st = 'a quick brown fox jumps over the lazy dog'"
   ]
  },
  {
   "cell_type": "code",
   "execution_count": 26,
   "id": "60136018-adc2-41d2-bc35-83ed5edfb1b1",
   "metadata": {},
   "outputs": [
    {
     "name": "stdout",
     "output_type": "stream",
     "text": [
      "a\n",
      "quick\n",
      "brown\n",
      "fox\n",
      "jumps\n",
      "over\n",
      "the\n",
      "lazy\n",
      "dog\n"
     ]
    }
   ],
   "source": [
    "for word in st.split():\n",
    "    print(word)"
   ]
  },
  {
   "cell_type": "code",
   "execution_count": 6,
   "id": "a7efcfd1-151b-4e51-bee5-10507c9e3fc6",
   "metadata": {},
   "outputs": [
    {
     "name": "stdout",
     "output_type": "stream",
     "text": [
      "quick\n"
     ]
    }
   ],
   "source": [
    "\n",
    "for word in st.split():\n",
    "    if word[0]=='q':\n",
    "        print(word)"
   ]
  },
  {
   "cell_type": "code",
   "execution_count": 10,
   "id": "ed20000b-993f-4501-9ce6-cd5b3a200a53",
   "metadata": {},
   "outputs": [
    {
     "name": "stdout",
     "output_type": "stream",
     "text": [
      "Hello Adeel\n"
     ]
    }
   ],
   "source": [
    "def hello_name(name):\n",
    "    print('Hello '+name)\n",
    "hello_name('Adeel')    "
   ]
  },
  {
   "cell_type": "code",
   "execution_count": 11,
   "id": "37470b4c-3d31-41fa-8fc8-888144d820ce",
   "metadata": {},
   "outputs": [
    {
     "data": {
      "text/plain": [
       "4"
      ]
     },
     "execution_count": 11,
     "metadata": {},
     "output_type": "execute_result"
    }
   ],
   "source": [
    "def sum(n1, n2):\n",
    "    return n1+n2\n",
    "sum(2,2)    "
   ]
  },
  {
   "cell_type": "code",
   "execution_count": 12,
   "id": "3fdaccf4-87d8-47d1-bb33-8d0acc605f93",
   "metadata": {},
   "outputs": [
    {
     "data": {
      "text/plain": [
       "'ello'"
      ]
     },
     "execution_count": 12,
     "metadata": {},
     "output_type": "execute_result"
    }
   ],
   "source": [
    "'ello'"
   ]
  },
  {
   "cell_type": "code",
   "execution_count": 14,
   "id": "c65ee41a-8053-4a60-aea3-1a10eea6d2d7",
   "metadata": {},
   "outputs": [
    {
     "data": {
      "text/plain": [
       "15"
      ]
     },
     "execution_count": 14,
     "metadata": {},
     "output_type": "execute_result"
    }
   ],
   "source": [
    "\n",
    "\n",
    "\n",
    "def sum(a, b):\n",
    "    return a+b;\n",
    "sum(a,b)\n"
   ]
  },
  {
   "cell_type": "code",
   "execution_count": 15,
   "id": "93be7689-64aa-482a-8a51-925991317969",
   "metadata": {},
   "outputs": [],
   "source": [
    "def hw():\n",
    "    print('Hello, World!')    \n",
    "    "
   ]
  },
  {
   "cell_type": "code",
   "execution_count": 16,
   "id": "d7344b8e-30d3-44f2-8f6a-24bfd6f42b42",
   "metadata": {},
   "outputs": [
    {
     "name": "stdout",
     "output_type": "stream",
     "text": [
      "Hello, World!\n"
     ]
    }
   ],
   "source": [
    "hw()"
   ]
  },
  {
   "cell_type": "code",
   "execution_count": 17,
   "id": "45baf063-5b7d-4cf7-889d-5dec769329fd",
   "metadata": {},
   "outputs": [],
   "source": [
    "def say_hello(name = 'Default'):\n",
    "    print(f'Hello {name}')"
   ]
  },
  {
   "cell_type": "code",
   "execution_count": 18,
   "id": "2ea5f926-8404-4806-9869-7f95a0539d96",
   "metadata": {},
   "outputs": [
    {
     "name": "stdout",
     "output_type": "stream",
     "text": [
      "Hello Default\n"
     ]
    }
   ],
   "source": [
    "say_hello()"
   ]
  },
  {
   "cell_type": "code",
   "execution_count": 19,
   "id": "b9ea8e9f-0338-4862-8335-5335795a23c5",
   "metadata": {},
   "outputs": [
    {
     "name": "stdout",
     "output_type": "stream",
     "text": [
      "Hello Adeel\n"
     ]
    }
   ],
   "source": [
    "say_hello('Adeel')"
   ]
  },
  {
   "cell_type": "code",
   "execution_count": 23,
   "id": "f578f3d3-1fbf-439a-9256-275cc5464a0c",
   "metadata": {},
   "outputs": [],
   "source": [
    "def check_even_odd(num):\n",
    "    if num % 2 == 0:\n",
    "        print('Even')\n",
    "    else:\n",
    "        print('Odd')\n"
   ]
  },
  {
   "cell_type": "code",
   "execution_count": 24,
   "id": "8808b58c-2773-4f2c-8d95-afb6a568954a",
   "metadata": {},
   "outputs": [
    {
     "name": "stdout",
     "output_type": "stream",
     "text": [
      "Even\n"
     ]
    }
   ],
   "source": [
    "check_even_odd(20)"
   ]
  },
  {
   "cell_type": "code",
   "execution_count": 25,
   "id": "983dd8c1-96ba-4608-9900-33bbacd93f1c",
   "metadata": {},
   "outputs": [
    {
     "name": "stdout",
     "output_type": "stream",
     "text": [
      "Odd\n"
     ]
    }
   ],
   "source": [
    "check_even_odd(21)"
   ]
  },
  {
   "cell_type": "code",
   "execution_count": 26,
   "id": "6c3064fa-38fb-41c6-ae46-88d1e268c151",
   "metadata": {},
   "outputs": [
    {
     "name": "stdout",
     "output_type": "stream",
     "text": [
      "0\n",
      "1\n",
      "2\n",
      "3\n",
      "4\n",
      "5\n",
      "6\n",
      "7\n",
      "8\n",
      "9\n",
      "10\n"
     ]
    }
   ],
   "source": [
    "for item in range(0, 11):\n",
    "    print(item)"
   ]
  },
  {
   "cell_type": "code",
   "execution_count": 28,
   "id": "032e3884-6694-475d-ae2f-8ce534a0f8ba",
   "metadata": {},
   "outputs": [
    {
     "name": "stdout",
     "output_type": "stream",
     "text": [
      "1\n",
      "2\n",
      "3\n",
      "4\n",
      "5\n"
     ]
    }
   ],
   "source": [
    "a = [1,2, 3, 4,5 ]\n",
    "for num in a:\n",
    "    print(num)"
   ]
  },
  {
   "cell_type": "code",
   "execution_count": null,
   "id": "592de1fe-80bb-4859-a2fd-fe90076ab25f",
   "metadata": {},
   "outputs": [],
   "source": []
  }
 ],
 "metadata": {
  "kernelspec": {
   "display_name": "Python 3 (ipykernel)",
   "language": "python",
   "name": "python3"
  },
  "language_info": {
   "codemirror_mode": {
    "name": "ipython",
    "version": 3
   },
   "file_extension": ".py",
   "mimetype": "text/x-python",
   "name": "python",
   "nbconvert_exporter": "python",
   "pygments_lexer": "ipython3",
   "version": "3.12.1"
  }
 },
 "nbformat": 4,
 "nbformat_minor": 5
}
